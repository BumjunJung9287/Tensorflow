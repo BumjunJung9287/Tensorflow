{
 "cells": [
  {
   "cell_type": "code",
   "execution_count": 1,
   "metadata": {
    "collapsed": true
   },
   "outputs": [],
   "source": [
    "import tensorflow as tf\n",
    "import numpy as np\n",
    "import matplotlib.pyplot as plt"
   ]
  },
  {
   "cell_type": "code",
   "execution_count": 3,
   "metadata": {},
   "outputs": [
    {
     "name": "stdout",
     "output_type": "stream",
     "text": [
      "Extracting MNIST_data1/train-images-idx3-ubyte.gz\n",
      "Extracting MNIST_data1/train-labels-idx1-ubyte.gz\n",
      "Extracting MNIST_data1/t10k-images-idx3-ubyte.gz\n",
      "Extracting MNIST_data1/t10k-labels-idx1-ubyte.gz\n"
     ]
    }
   ],
   "source": [
    "from tensorflow.examples.tutorials.mnist import input_data\n",
    "import random\n",
    "mnist = input_data.read_data_sets(\"MNIST_data1/\", one_hot=True)"
   ]
  },
  {
   "cell_type": "code",
   "execution_count": 4,
   "metadata": {},
   "outputs": [
    {
     "name": "stdout",
     "output_type": "stream",
     "text": [
      "WARNING:tensorflow:From C:\\ProgramData\\Anaconda3\\lib\\site-packages\\tensorflow\\python\\framework\\op_def_library.py:263: colocate_with (from tensorflow.python.framework.ops) is deprecated and will be removed in a future version.\n",
      "Instructions for updating:\n",
      "Colocations handled automatically by placer.\n",
      "WARNING:tensorflow:From <ipython-input-4-538219df5b89>:9: softmax_cross_entropy_with_logits (from tensorflow.python.ops.nn_ops) is deprecated and will be removed in a future version.\n",
      "Instructions for updating:\n",
      "\n",
      "Future major versions of TensorFlow will allow gradients to flow\n",
      "into the labels input on backprop by default.\n",
      "\n",
      "See `tf.nn.softmax_cross_entropy_with_logits_v2`.\n",
      "\n",
      "Epoch: 0001 cost = 1.240711056\n",
      "Epoch: 0002 cost = 0.499703471\n",
      "Epoch: 0003 cost = 0.409997935\n",
      "Epoch: 0004 cost = 0.369994133\n",
      "Epoch: 0005 cost = 0.346291369\n",
      "Epoch: 0006 cost = 0.327883083\n",
      "Epoch: 0007 cost = 0.314123246\n",
      "Epoch: 0008 cost = 0.307340790\n",
      "Epoch: 0009 cost = 0.301716715\n",
      "Epoch: 0010 cost = 0.294289100\n",
      "Epoch: 0011 cost = 0.289000697\n",
      "Epoch: 0012 cost = 0.283869696\n",
      "Epoch: 0013 cost = 0.284313266\n",
      "Epoch: 0014 cost = 0.278179635\n",
      "Epoch: 0015 cost = 0.277038090\n",
      "Learning Finished\n",
      "Accuracy: 0.9174\n"
     ]
    }
   ],
   "source": [
    "X = tf.placeholder(\"float\",[None,784])\n",
    "Y = tf.placeholder(tf.float32, [None,10])\n",
    "\n",
    "W = tf.Variable(tf.random_normal([784,10]))\n",
    "b = tf.Variable(tf.random_normal([10]))\n",
    "hypothesis = tf.matmul(X,W) + b\n",
    "\n",
    "#AdamOptimizer 이 뭐지??\n",
    "cost = tf.reduce_mean(tf.nn.softmax_cross_entropy_with_logits(logits = hypothesis, labels = Y))\n",
    "learning_rate = 0.01\n",
    "optimizer = tf.train.AdamOptimizer(learning_rate = learning_rate).minimize(cost)\n",
    "\n",
    "sess = tf.Session()\n",
    "sess.run(tf.global_variables_initializer())\n",
    "\n",
    "#parameters\n",
    "training_epochs = 15\n",
    "batch_size = 100\n",
    "\n",
    "\n",
    "for epoch in range(training_epochs):\n",
    "    avg_cost = 0\n",
    "    total_batch = int(mnist.train.num_examples / batch_size)\n",
    "    \n",
    "    for i in range(total_batch):\n",
    "        batch_xs, batch_ys = mnist.train.next_batch(batch_size)\n",
    "        feed_dict = {X:batch_xs, Y: batch_ys}\n",
    "        c, _ = sess.run([cost, optimizer], feed_dict = feed_dict)\n",
    "        avg_cost += c / total_batch\n",
    "    print(\"Epoch:\",\"%04d\" % (epoch+1), \"cost =\", \"{:.9f}\".format(avg_cost))\n",
    "    \n",
    "print(\"Learning Finished\")\n",
    "\n",
    "correct_prediction = tf.equal(tf.argmax(hypothesis,1),tf.argmax(Y,1))\n",
    "acc = tf.reduce_mean(tf.cast(correct_prediction,tf.float32))\n",
    "print(\"Accuracy:\",sess.run(acc,feed_dict = {X:mnist.test.images, Y:mnist.test.labels}))\n",
    "\n",
    "#cost가 줄지않는것은 learning_rate 문제였음. 0.1이라는 값이 너무 큰값이어서 0.01로 바꾸니 optimizing이 잘 됨"
   ]
  },
  {
   "cell_type": "code",
   "execution_count": 5,
   "metadata": {},
   "outputs": [
    {
     "name": "stdout",
     "output_type": "stream",
     "text": [
      "Epoch: 0001 cost = 46.120948641\n",
      "Epoch: 0002 cost = 7.597005902\n",
      "Epoch: 0003 cost = 4.155300538\n",
      "Epoch: 0004 cost = 2.624875651\n",
      "Epoch: 0005 cost = 2.042055909\n",
      "Epoch: 0006 cost = 1.755608195\n",
      "Epoch: 0007 cost = 1.678877007\n",
      "Epoch: 0008 cost = 1.322974931\n",
      "Epoch: 0009 cost = 1.340940454\n",
      "Epoch: 0010 cost = 1.232778213\n",
      "Epoch: 0011 cost = 0.982213843\n",
      "Epoch: 0012 cost = 0.952188497\n",
      "Epoch: 0013 cost = 0.780116983\n",
      "Epoch: 0014 cost = 0.759274828\n",
      "Epoch: 0015 cost = 0.572000189\n",
      "Learning Finished\n",
      "Accuracy: 0.9522\n"
     ]
    }
   ],
   "source": [
    "X = tf.placeholder(\"float\",[None,784])\n",
    "Y = tf.placeholder(tf.float32, [None,10])\n",
    "\n",
    "\n",
    "W1 = tf.Variable(tf.random_normal([784,256]))\n",
    "b1 = tf.Variable(tf.random_normal([256]))\n",
    "layer1 = tf.nn.relu(tf.matmul(X,W1)+b1)\n",
    "\n",
    "W2 = tf.Variable(tf.random_normal([256,256]))\n",
    "b2 = tf.Variable(tf.random_normal([256]))\n",
    "layer2 = tf.nn.relu(tf.matmul(layer1,W2)+b2)\n",
    "\n",
    "W3 = tf.Variable(tf.random_normal([256,10]))\n",
    "b3 = tf.Variable(tf.random_normal([10]))\n",
    "hypothesis = tf.matmul(layer2,W3) + b3\n",
    "\n",
    "#AdamOptimizer 이 뭐지??\n",
    "cost = tf.reduce_mean(tf.nn.softmax_cross_entropy_with_logits(logits = hypothesis, labels = Y))\n",
    "learning_rate = 0.01 ##중요한 parameter! 이값에 의해 학습이 안될수도 있음.\n",
    "optimizer = tf.train.AdamOptimizer(learning_rate = learning_rate).minimize(cost)\n",
    "\n",
    "sess = tf.Session()\n",
    "sess.run(tf.global_variables_initializer())\n",
    "\n",
    "#parameters\n",
    "training_epochs = 15\n",
    "batch_size = 100\n",
    "\n",
    "\n",
    "for epoch in range(training_epochs):\n",
    "    avg_cost = 0\n",
    "    total_batch = int(mnist.train.num_examples / batch_size)\n",
    "    \n",
    "    for i in range(total_batch):\n",
    "        batch_xs, batch_ys = mnist.train.next_batch(batch_size)\n",
    "        feed_dict = {X:batch_xs, Y: batch_ys}\n",
    "        c, _ = sess.run([cost, optimizer], feed_dict = feed_dict)\n",
    "        avg_cost += c / total_batch\n",
    "    print(\"Epoch:\",\"%04d\" % (epoch+1), \"cost =\", \"{:.9f}\".format(avg_cost))\n",
    "    \n",
    "print(\"Learning Finished\")\n",
    "\n",
    "correct_prediction = tf.equal(tf.argmax(hypothesis,1),tf.argmax(Y,1))\n",
    "acc = tf.reduce_mean(tf.cast(correct_prediction,tf.float32))\n",
    "print(\"Accuracy:\",sess.run(acc,feed_dict = {X:mnist.test.images, Y:mnist.test.labels}))\n",
    "\n",
    "#cost가 줄지않는것은 learning_rate 문제였음. 0.1이라는 값이 너무 큰값이어서 0.01로 바꾸니 optimizing이 잘 됨\n",
    "#우와.... Deep NN을 적당히 wide 하게, 적당히 Deep 하게 설정하면 96%까지 정확도가 나오는구나 ;;;\n",
    "#개쩐다 96%의 정확도라니 ㅋㅋㅋ\n"
   ]
  },
  {
   "cell_type": "code",
   "execution_count": 18,
   "metadata": {},
   "outputs": [
    {
     "name": "stdout",
     "output_type": "stream",
     "text": [
      "Epoch: 0001 cost = 0.296931906\n",
      "Epoch: 0002 cost = 0.145540544\n",
      "Epoch: 0003 cost = 0.119409917\n",
      "Epoch: 0004 cost = 0.108273131\n",
      "Epoch: 0005 cost = 0.104289940\n",
      "Epoch: 0006 cost = 0.092979450\n",
      "Epoch: 0007 cost = 0.084915098\n",
      "Epoch: 0008 cost = 0.089169626\n",
      "Epoch: 0009 cost = 0.082194942\n",
      "Epoch: 0010 cost = 0.076386108\n",
      "Epoch: 0011 cost = 0.079403262\n",
      "Epoch: 0012 cost = 0.071043973\n",
      "Epoch: 0013 cost = 0.070397291\n",
      "Epoch: 0014 cost = 0.066319729\n",
      "Epoch: 0015 cost = 0.063401788\n",
      "Learning Finished\n",
      "Accuracy: 0.9676\n"
     ]
    }
   ],
   "source": [
    "# 초기화 하는 방법 (Xavier initialization) 자비에 초기화만 추가!\n",
    "# 참고로 get_variable 메소드 사용시 reuse error가 뜨면 이름을 다른걸로 모두 바꿔주기.\n",
    "#그 이름의 변수가 이미 존재한다고 에러가 뜸. reuse를 하려고해도 어떻게 하는지 모르겠다는.. ㅠㅠ\n",
    "X = tf.placeholder(\"float\",[None,784])\n",
    "Y = tf.placeholder(tf.float32, [None,10])\n",
    "\n",
    "with tf.variable_scope(\"w1\", reuse=tf.AUTO_REUSE):\n",
    "    w1 = tf.get_variable(\"w1\", shape = [784,256], initializer = tf.contrib.layers.xavier_initializer())\n",
    "b1 = tf.Variable(tf.random_normal([256]))\n",
    "layer1 = tf.nn.relu(tf.matmul(X,w1)+b1)\n",
    "\n",
    "with tf.variable_scope(\"w2\", reuse=tf.AUTO_REUSE):\n",
    "    w2 = tf.get_variable(\"w2\",shape = [256,256],initializer = tf.contrib.layers.xavier_initializer())\n",
    "b2 = tf.Variable(tf.random_normal([256]))\n",
    "layer2 = tf.nn.relu(tf.matmul(layer1,w2)+b2)\n",
    "\n",
    "with tf.variable_scope(\"w3\", reuse=tf.AUTO_REUSE):\n",
    "    w3 = tf.get_variable(\"w3\",shape = [256,10],initializer = tf.contrib.layers.xavier_initializer())\n",
    "b3 = tf.Variable(tf.random_normal([10]))\n",
    "hypothesis = tf.matmul(layer2,w3) + b3\n",
    "\n",
    "#AdamOptimizer 이 뭐지??\n",
    "cost = tf.reduce_mean(tf.nn.softmax_cross_entropy_with_logits(logits = hypothesis, labels = Y))\n",
    "learning_rate = 0.01 ##중요한 parameter! 이값에 의해 학습이 안될수도 있음.\n",
    "optimizer = tf.train.AdamOptimizer(learning_rate = learning_rate).minimize(cost)\n",
    "\n",
    "sess = tf.Session()\n",
    "sess.run(tf.global_variables_initializer())\n",
    "\n",
    "#parameters\n",
    "training_epochs = 15\n",
    "batch_size = 100\n",
    "\n",
    "\n",
    "for epoch in range(training_epochs):\n",
    "    avg_cost = 0\n",
    "    total_batch = int(mnist.train.num_examples / batch_size)\n",
    "    \n",
    "    for i in range(total_batch):\n",
    "        batch_xs, batch_ys = mnist.train.next_batch(batch_size)\n",
    "        feed_dict = {X:batch_xs, Y: batch_ys}\n",
    "        c, _ = sess.run([cost, optimizer], feed_dict = feed_dict)\n",
    "        avg_cost += c / total_batch\n",
    "    print(\"Epoch:\",\"%04d\" % (epoch+1), \"cost =\", \"{:.9f}\".format(avg_cost))\n",
    "    \n",
    "print(\"Learning Finished\")\n",
    "\n",
    "correct_prediction = tf.equal(tf.argmax(hypothesis,1),tf.argmax(Y,1))\n",
    "acc = tf.reduce_mean(tf.cast(correct_prediction,tf.float32))\n",
    "print(\"Accuracy:\",sess.run(acc,feed_dict = {X:mnist.test.images, Y:mnist.test.labels}))\n",
    "\n",
    "#cost가 줄지않는것은 learning_rate 문제였음. 0.1이라는 값이 너무 큰값이어서 0.01로 바꾸니 optimizing이 잘 됨\n",
    "#우와.... Deep NN을 적당히 wide 하게, 적당히 Deep 하게 설정하면 96%까지 정확도가 나오는구나 ;;;\n",
    "#개쩐다 97%의 정확도라니 ㅋㅋㅋ\n",
    "\n",
    "#초기화를 잘 하니까 첫 Epoch부터 cost가 낮은값으로 설정됨\n",
    "#참고로 다시 돌릴때는 W1이 이미 존재한다고 reuse하냐고 에러뜸.. 다시돌리지는 말기\n",
    "#아마도 tensorboard에 이미 \"W1\"의 이름으로 데이터가 저장되어 있는데 덮어씌울수 없어서 error가 뜨는듯.\n",
    "#역시 아직 tensorboard는 잘 모르겠다..\n",
    "#오옷 근데 인터넷으로 찾아봐서\n",
    "#with tf.variable_scope(\"W3\", reuse=tf.AUTO_REUSE): 를 앞에 붙이니까 자동으로 reuse가 되넹!! 음.. 아닌가..\n",
    "\n",
    "# 참고로 이걸 앞에 달아놓으면 에러 안나온다는걸 깨달음\n",
    "#tf.reset_default_graph() # Xavier 가중치 초기 에러 방지"
   ]
  },
  {
   "cell_type": "code",
   "execution_count": 26,
   "metadata": {},
   "outputs": [
    {
     "name": "stdout",
     "output_type": "stream",
     "text": [
      "Epoch: 0001 cost = 0.529410347\n",
      "Epoch: 0002 cost = 0.189692176\n",
      "Epoch: 0003 cost = 0.153395941\n",
      "Epoch: 0004 cost = 0.139486185\n",
      "Epoch: 0005 cost = 0.140883954\n",
      "Epoch: 0006 cost = 0.134655282\n",
      "Epoch: 0007 cost = 0.133916136\n",
      "Epoch: 0008 cost = 0.151703355\n",
      "Epoch: 0009 cost = 0.119407674\n",
      "Epoch: 0010 cost = 0.104906016\n",
      "Epoch: 0011 cost = 0.092694170\n",
      "Epoch: 0012 cost = 0.096078305\n",
      "Epoch: 0013 cost = 0.093218742\n",
      "Epoch: 0014 cost = 0.105186751\n",
      "Epoch: 0015 cost = 0.093454982\n",
      "Learning Finished\n",
      "Accuracy: 0.9621\n"
     ]
    }
   ],
   "source": [
    "# 초기화 하는 방법 (Xavier initialization) 자비에 초기화만 추가!\n",
    "# 위와 동일하지만 더 wide하고 Deep하게!\n",
    "X = tf.placeholder(\"float\",[None,784])\n",
    "Y = tf.placeholder(tf.float32, [None,10])\n",
    "\n",
    "with tf.variable_scope(\"w103\", reuse=tf.AUTO_REUSE):\n",
    "    w1 = tf.get_variable(\"w103\", shape = [784,512], initializer = tf.contrib.layers.xavier_initializer())\n",
    "b1 = tf.Variable(tf.random_normal([512]))\n",
    "layer1 = tf.nn.relu(tf.matmul(X,w1)+b1)\n",
    "\n",
    "with tf.variable_scope(\"w203\", reuse=tf.AUTO_REUSE):\n",
    "    w2 = tf.get_variable(\"w203\",shape = [512,512],initializer = tf.contrib.layers.xavier_initializer())\n",
    "b2 = tf.Variable(tf.random_normal([512]))\n",
    "layer2 = tf.nn.relu(tf.matmul(layer1,w2)+b2)\n",
    "\n",
    "with tf.variable_scope(\"w303\", reuse=tf.AUTO_REUSE):\n",
    "    w3 = tf.get_variable(\"w303\",shape = [512,512],initializer = tf.contrib.layers.xavier_initializer())\n",
    "b3 = tf.Variable(tf.random_normal([512]))\n",
    "layer3 = tf.nn.relu(tf.matmul(layer2,w3)+b3)\n",
    "\n",
    "with tf.variable_scope(\"w403\", reuse=tf.AUTO_REUSE):\n",
    "    w4 = tf.get_variable(\"w403\",shape = [512,512],initializer = tf.contrib.layers.xavier_initializer())\n",
    "b4 = tf.Variable(tf.random_normal([512]))\n",
    "layer4 = tf.nn.relu(tf.matmul(layer3,w4)+b4)\n",
    "\n",
    "with tf.variable_scope(\"w503\", reuse=tf.AUTO_REUSE):\n",
    "    w5 = tf.get_variable(\"w503\",shape = [512,10],initializer = tf.contrib.layers.xavier_initializer())\n",
    "b5 = tf.Variable(tf.random_normal([10]))\n",
    "hypothesis = tf.matmul(layer4,w5) + b5\n",
    "\n",
    "#AdamOptimizer 이 뭐지??\n",
    "cost = tf.reduce_mean(tf.nn.softmax_cross_entropy_with_logits(logits = hypothesis, labels = Y))\n",
    "learning_rate = 0.01 ##중요한 parameter! 이값에 의해 학습이 안될수도 있음.\n",
    "optimizer = tf.train.AdamOptimizer(learning_rate = learning_rate).minimize(cost)\n",
    "\n",
    "sess = tf.Session()\n",
    "sess.run(tf.global_variables_initializer())\n",
    "\n",
    "#parameters\n",
    "training_epochs = 15\n",
    "batch_size = 100\n",
    "\n",
    "\n",
    "for epoch in range(training_epochs):\n",
    "    avg_cost = 0\n",
    "    total_batch = int(mnist.train.num_examples / batch_size)\n",
    "    \n",
    "    for i in range(total_batch):\n",
    "        batch_xs, batch_ys = mnist.train.next_batch(batch_size)\n",
    "        feed_dict = {X:batch_xs, Y: batch_ys}\n",
    "        c, _ = sess.run([cost, optimizer], feed_dict = feed_dict)\n",
    "        avg_cost += c / total_batch\n",
    "    print(\"Epoch:\",\"%04d\" % (epoch+1), \"cost =\", \"{:.9f}\".format(avg_cost))\n",
    "    \n",
    "print(\"Learning Finished\")\n",
    "\n",
    "correct_prediction = tf.equal(tf.argmax(hypothesis,1),tf.argmax(Y,1))\n",
    "acc = tf.reduce_mean(tf.cast(correct_prediction,tf.float32))\n",
    "print(\"Accuracy:\",sess.run(acc,feed_dict = {X:mnist.test.images, Y:mnist.test.labels}))\n",
    "\n",
    "#너무 딥하고 와이드 해서 Overfitting이 일어나버림\n",
    "#accuracy가 올라가지 않고 오히려 조금 떨어짐."
   ]
  },
  {
   "cell_type": "code",
   "execution_count": 31,
   "metadata": {},
   "outputs": [
    {
     "name": "stdout",
     "output_type": "stream",
     "text": [
      "Epoch: 0001 cost = 0.466538857\n",
      "Epoch: 0002 cost = 0.176859453\n",
      "Epoch: 0003 cost = 0.128801817\n",
      "Epoch: 0004 cost = 0.110070825\n",
      "Epoch: 0005 cost = 0.094407970\n",
      "Epoch: 0006 cost = 0.083009918\n",
      "Epoch: 0007 cost = 0.078903657\n",
      "Epoch: 0008 cost = 0.067538283\n",
      "Epoch: 0009 cost = 0.064638178\n",
      "Epoch: 0010 cost = 0.059011996\n",
      "Epoch: 0011 cost = 0.058001195\n",
      "Epoch: 0012 cost = 0.055992032\n",
      "Epoch: 0013 cost = 0.050307772\n",
      "Epoch: 0014 cost = 0.047881765\n",
      "Epoch: 0015 cost = 0.044010822\n",
      "Learning Finished\n",
      "Accuracy: 0.9826\n",
      "Label:  [9]\n",
      "Prediction:  [9]\n"
     ]
    },
    {
     "data": {
      "image/png": "[encoded data removed]",
      "text/plain": [
       "<matplotlib.figure.Figure at 0x170af573940>"
      ]
     },
     "metadata": {},
     "output_type": "display_data"
    }
   ],
   "source": [
    "#Overfitting을 방지하기 위해 Dropout을 사용 (일부 Nueron을 끊음)\n",
    "X = tf.placeholder(\"float\",[None,784])\n",
    "Y = tf.placeholder(tf.float32, [None,10])\n",
    "\n",
    "keep_prob = tf.placeholder(tf.float32) #dropout시 몇%의 Neuron을 keep할 것인가.\n",
    "#train시에는 0.5~0.7      ---keep_probability\n",
    "#test시에는 반드시 1\n",
    "\n",
    "w1 = tf.get_variable(\"w105\", shape = [784,512], initializer = tf.contrib.layers.xavier_initializer())\n",
    "b1 = tf.Variable(tf.random_normal([512]))\n",
    "layer1 = tf.nn.relu(tf.matmul(X,w1)+b1)\n",
    "layer1 = tf.nn.dropout(layer1, keep_prob=keep_prob)\n",
    "\n",
    "w2 = tf.get_variable(\"w205\",shape = [512,512],initializer = tf.contrib.layers.xavier_initializer())\n",
    "b2 = tf.Variable(tf.random_normal([512]))\n",
    "layer2 = tf.nn.relu(tf.matmul(layer1,w2)+b2)\n",
    "layer2 = tf.nn.dropout(layer2, keep_prob=keep_prob)\n",
    "\n",
    "w3 = tf.get_variable(\"w305\",shape = [512,512],initializer = tf.contrib.layers.xavier_initializer())\n",
    "b3 = tf.Variable(tf.random_normal([512]))\n",
    "layer3 = tf.nn.relu(tf.matmul(layer2,w3)+b3)\n",
    "layer3 = tf.nn.dropout(layer3, keep_prob=keep_prob)\n",
    "\n",
    "w4 = tf.get_variable(\"w405\",shape = [512,512],initializer = tf.contrib.layers.xavier_initializer())\n",
    "b4 = tf.Variable(tf.random_normal([512]))\n",
    "layer4 = tf.nn.relu(tf.matmul(layer3,w4)+b4)\n",
    "layer4 = tf.nn.dropout(layer4, keep_prob=keep_prob)\n",
    "\n",
    "w5 = tf.get_variable(\"w505\",shape = [512,10],initializer = tf.contrib.layers.xavier_initializer())\n",
    "b5 = tf.Variable(tf.random_normal([10]))\n",
    "hypothesis = tf.matmul(layer4,w5) + b5\n",
    "\n",
    "#AdamOptimizer 이 뭐지??\n",
    "cost = tf.reduce_mean(tf.nn.softmax_cross_entropy_with_logits(logits = hypothesis, labels = Y))\n",
    "learning_rate = 0.001 ##중요한 parameter! 이값에 의해 학습이 안될수도 있음.\n",
    "optimizer = tf.train.AdamOptimizer(learning_rate = learning_rate).minimize(cost)\n",
    "\n",
    "sess = tf.Session()\n",
    "sess.run(tf.global_variables_initializer())\n",
    "\n",
    "#parameters\n",
    "training_epochs = 15\n",
    "batch_size = 100\n",
    "\n",
    "\n",
    "for epoch in range(training_epochs):\n",
    "    avg_cost = 0\n",
    "    total_batch = int(mnist.train.num_examples / batch_size)\n",
    "    \n",
    "    for i in range(total_batch):\n",
    "        batch_xs, batch_ys = mnist.train.next_batch(batch_size)\n",
    "        feed_dict = {X:batch_xs, Y: batch_ys, keep_prob:0.7} ##dropout으로 7할의 뉴런만 학습시킴.\n",
    "        c, _ = sess.run([cost, optimizer], feed_dict = feed_dict)\n",
    "        avg_cost += c / total_batch\n",
    "    print(\"Epoch:\",\"%04d\" % (epoch+1), \"cost =\", \"{:.9f}\".format(avg_cost))\n",
    "    \n",
    "print(\"Learning Finished\")\n",
    "\n",
    "correct_prediction = tf.equal(tf.argmax(hypothesis,1),tf.argmax(Y,1))\n",
    "acc = tf.reduce_mean(tf.cast(correct_prediction,tf.float32))\n",
    "print(\"Accuracy:\",sess.run(acc,feed_dict = {X:mnist.test.images, Y:mnist.test.labels, keep_prob:1}))\n",
    "#test할떄에는 반드시 keep_prob:1 (test에는 모든 뉴런을 사용함.)\n",
    "#학습시에만 overfitting을 방지하기위해 dropout이 필요.\n",
    "\n",
    "tf.set_random_seed(777)\n",
    "\n",
    "# Get one and predict\n",
    "r = random.randint(0, mnist.test.num_examples - 1)\n",
    "print(\"Label: \", sess.run(tf.argmax(mnist.test.labels[r:r + 1], 1)))\n",
    "print(\"Prediction: \", sess.run(\n",
    "    tf.argmax(hypothesis, 1), feed_dict={X: mnist.test.images[r:r + 1], keep_prob: 1}))\n",
    "\n",
    "plt.imshow(mnist.test.images[r:r + 1].\n",
    "          reshape(28, 28), cmap='Greys', interpolation='nearest')\n",
    "plt.show()\n",
    "\n",
    "#와우...나도 겨우 98.3%의 Accuracyが出た！！ 기쁘다 진심. 이게 deep learning의 힘이구나. 대단하다고 느낀다.\n",
    "#진짜 제대로 연구해보고싶다는 생각이 계속 들정도.. 우리학과 연구실중 이거를 좀더 깊게 공부할 수 있는 연구실이 있으면 좋겠다 ㅠ"
   ]
  },
  {
   "cell_type": "code",
   "execution_count": 64,
   "metadata": {},
   "outputs": [
    {
     "name": "stdout",
     "output_type": "stream",
     "text": [
      "Label:  [5]\n",
      "Prediction:  [5]\n"
     ]
    },
    {
     "data": {
      "image/png": "[encoded data removed]",
      "text/plain": [
       "<matplotlib.figure.Figure at 0x170b8f2c6d8>"
      ]
     },
     "metadata": {},
     "output_type": "display_data"
    }
   ],
   "source": [
    "tf.set_random_seed(777)\n",
    "\n",
    "# Get one and predict\n",
    "r = random.randint(0, mnist.test.num_examples - 1)\n",
    "print(\"Label: \", sess.run(tf.argmax(mnist.test.labels[r:r + 1], 1)))\n",
    "print(\"Prediction: \", sess.run(\n",
    "    tf.argmax(hypothesis, 1), feed_dict={X: mnist.test.images[r:r + 1], keep_prob: 1}))\n",
    "\n",
    "plt.imshow(mnist.test.images[r:r + 1].\n",
    "          reshape(28, 28), cmap='Greys', interpolation='nearest')\n",
    "plt.show()\n"
   ]
  },
  {
   "cell_type": "code",
   "execution_count": 67,
   "metadata": {},
   "outputs": [
    {
     "name": "stdout",
     "output_type": "stream",
     "text": [
      "Label:  [6]\n",
      "Prediction:  [8]\n"
     ]
    },
    {
     "data": {
      "image/png": "[encoded data removed]",
      "text/plain": [
       "<matplotlib.figure.Figure at 0x170af8750b8>"
      ]
     },
     "metadata": {},
     "output_type": "display_data"
    },
    {
     "name": "stdout",
     "output_type": "stream",
     "text": [
      "Label:  [9]\n",
      "Prediction:  [5]\n"
     ]
    },
    {
     "data": {
      "image/png": "[encoded data removed]",
      "text/plain": [
       "<matplotlib.figure.Figure at 0x170b792bc88>"
      ]
     },
     "metadata": {},
     "output_type": "display_data"
    },
    {
     "name": "stdout",
     "output_type": "stream",
     "text": [
      "Label:  [9]\n",
      "Prediction:  [3]\n"
     ]
    },
    {
     "data": {
      "image/png": "[encoded data removed]",
      "text/plain": [
       "<matplotlib.figure.Figure at 0x170b8c73438>"
      ]
     },
     "metadata": {},
     "output_type": "display_data"
    },
    {
     "name": "stdout",
     "output_type": "stream",
     "text": [
      "Label:  [7]\n",
      "Prediction:  [9]\n"
     ]
    },
    {
     "data": {
      "image/png": "[encoded data removed]",
      "text/plain": [
       "<matplotlib.figure.Figure at 0x170b90845c0>"
      ]
     },
     "metadata": {},
     "output_type": "display_data"
    },
    {
     "name": "stdout",
     "output_type": "stream",
     "text": [
      "Label:  [4]\n",
      "Prediction:  [9]\n"
     ]
    },
    {
     "data": {
      "image/png": "[encoded data removed]",
      "text/plain": [
       "<matplotlib.figure.Figure at 0x170be974860>"
      ]
     },
     "metadata": {},
     "output_type": "display_data"
    },
    {
     "name": "stdout",
     "output_type": "stream",
     "text": [
      "Label:  [4]\n",
      "Prediction:  [9]\n"
     ]
    },
    {
     "data": {
      "image/png": "[encoded data removed]",
      "text/plain": [
       "<matplotlib.figure.Figure at 0x170b8b66400>"
      ]
     },
     "metadata": {},
     "output_type": "display_data"
    },
    {
     "name": "stdout",
     "output_type": "stream",
     "text": [
      "Label:  [9]\n",
      "Prediction:  [3]\n"
     ]
    },
    {
     "data": {
      "image/png": "[encoded data removed]",
      "text/plain": [
       "<matplotlib.figure.Figure at 0x170b8b3f940>"
      ]
     },
     "metadata": {},
     "output_type": "display_data"
    }
   ],
   "source": [
    "#98%이상의 정확도까지 왔기에 hypothesis가 틀린걸 찾기위해서 300개의 random한 데이터를 모두 대입해보았다.\n",
    "#3개정도는 나오지 않을라나??\n",
    "#어떤 데이터를 어떻게 잘못 봤는지도 궁금했기에..\n",
    "tf.set_random_seed(777)\n",
    "\n",
    "for i in range(300):\n",
    "    r = random.randint(0, mnist.test.num_examples - 1)\n",
    "    if (sess.run(tf.argmax(mnist.test.labels[r:r + 1], 1)) != sess.run(tf.argmax(hypothesis, 1), feed_dict={X: mnist.test.images[r:r + 1], keep_prob: 1})):\n",
    "        print(\"Label: \", sess.run(tf.argmax(mnist.test.labels[r:r + 1], 1)))\n",
    "        print(\"Prediction: \", sess.run(\n",
    "            tf.argmax(hypothesis, 1), feed_dict={X: mnist.test.images[r:r + 1], keep_prob: 1}))\n",
    "        plt.imshow(mnist.test.images[r:r + 1].\n",
    "          reshape(28, 28), cmap='Greys', interpolation='nearest')\n",
    "        plt.show()\n",
    "#print(\"Label: \", sess.run(tf.argmax(mnist.test.labels[r:r + 1], 1)))\n",
    "#print(\"Prediction: \", sess.run(\n",
    "#    tf.argmax(hypothesis, 1), feed_dict={X: mnist.test.images[r:r + 1], keep_prob: 1}))\n",
    "\n",
    "#plt.imshow(mnist.test.images[r:r + 1].\n",
    "#          reshape(28, 28), cmap='Greys', interpolation='nearest')\n",
    "#plt.show()"
   ]
  },
  {
   "cell_type": "code",
   "execution_count": null,
   "metadata": {
    "collapsed": true
   },
   "outputs": [],
   "source": [
    "#오늘의 실습은 정말 재미있었다.\n",
    "#accuracy가 90%에서 98%까지 서서히 올라가는것도 신기했고, \n",
    "#다른 종류의 optimizer을 사용해본것도 신기했고\n",
    "#Xavier Initialization 이라던지 Dropout등 배웠던 개념들을 실제로 적용하는 방법을 알게되어서 유익했다.\n",
    "#역시 mnist_data로 하는 실습은 재미있는듯. 다음에는 다른 데이터들도 사용해보고싶다."
   ]
  }
 ],
 "metadata": {
  "kernelspec": {
   "display_name": "Python 3",
   "language": "python",
   "name": "python3"
  },
  "language_info": {
   "codemirror_mode": {
    "name": "ipython",
    "version": 3
   },
   "file_extension": ".py",
   "mimetype": "text/x-python",
   "name": "python",
   "nbconvert_exporter": "python",
   "pygments_lexer": "ipython3",
   "version": "3.6.1"
  }
 },
 "nbformat": 4,
 "nbformat_minor": 2
}
