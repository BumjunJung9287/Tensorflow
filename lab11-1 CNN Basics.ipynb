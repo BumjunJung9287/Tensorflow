{
 "cells": [
  {
   "cell_type": "code",
   "execution_count": 8,
   "metadata": {
    "collapsed": true
   },
   "outputs": [],
   "source": [
    "import tensorflow as tf\n",
    "import numpy as np\n",
    "import matplotlib.pyplot as plt"
   ]
  },
  {
   "cell_type": "code",
   "execution_count": 2,
   "metadata": {
    "collapsed": true
   },
   "outputs": [],
   "source": [
    "##CNN\n",
    "#image vecter -> conv layers -> subsampling(pool)"
   ]
  },
  {
   "cell_type": "code",
   "execution_count": 10,
   "metadata": {},
   "outputs": [
    {
     "name": "stdout",
     "output_type": "stream",
     "text": [
      "(1, 3, 3, 1)\n"
     ]
    },
    {
     "name": "stderr",
     "output_type": "stream",
     "text": [
      "C:\\ProgramData\\Anaconda3\\lib\\site-packages\\tensorflow\\python\\client\\session.py:1702: UserWarning: An interactive session is already active. This can cause out-of-memory errors in some cases. You must explicitly call `InteractiveSession.close()` to release resources held by the other session(s).\n",
      "  warnings.warn('An interactive session is already active. This can '\n"
     ]
    },
    {
     "data": {
      "image/png": "[encoded data removed]",
      "text/plain": [
       "<matplotlib.figure.Figure at 0x1a8073f2ba8>"
      ]
     },
     "metadata": {},
     "output_type": "display_data"
    }
   ],
   "source": [
    "#Simple convolution layer\n",
    "#3x3x1 image, 2x2x1 Filter -> 2x2x1 layer\n",
    "sess = tf.InteractiveSession()\n",
    "image = np.array([[[[1],[2],[3]],\n",
    "                  [[4],[5],[6]],\n",
    "                  [[7],[8],[9]]]], dtype = np.float32)\n",
    "print(image.shape)\n",
    "plt.imshow(image.reshape(3,3), cmap = \"Greys\")\n",
    "plt.show()"
   ]
  },
  {
   "cell_type": "code",
   "execution_count": 12,
   "metadata": {},
   "outputs": [
    {
     "name": "stdout",
     "output_type": "stream",
     "text": [
      "image.shape (1, 3, 3, 1)\n",
      "weight.shape (2, 2, 1, 1)\n",
      "conv2d_img.shape (1, 2, 2, 1)\n",
      "[[12. 16.]\n",
      " [24. 28.]]\n"
     ]
    },
    {
     "data": {
      "image/png": "[encoded data removed]",
      "text/plain": [
       "<matplotlib.figure.Figure at 0x1a813c95fd0>"
      ]
     },
     "metadata": {},
     "output_type": "display_data"
    }
   ],
   "source": [
    "#Simple convolutional layer\n",
    "#shape of parameters\n",
    "#Image: 1,3,3,1 ;; Filter: 2,2,1,1 ;; Stride: 1x1 ;; Padding: VALID\n",
    "#Image: (image의 수, row, col, channel(깊이..?)),\n",
    "#Filter: (row, col, channel, filter의 수)\n",
    "print(\"image.shape\", image.shape)\n",
    "weight = tf.constant([[[[1.]],[[1.]]],\n",
    "                      [[[1.]],[[1.]]]]) ##Filter (weight -> 1로 초기화)\n",
    "print(\"weight.shape\",weight.shape)\n",
    "#Q. strides = [1,1,1,1] <- 이게 어떻게 1x1 stride인거지???\n",
    "#1x1x1x1 이라는 뜻인가..?\n",
    "conv2d = tf.nn.conv2d(image, weight, strides = [1,1,1,1], padding = \"VALID\")\n",
    "conv2d_img = conv2d.eval()\n",
    "print(\"conv2d_img.shape\",conv2d_img.shape)\n",
    "conv2d_img = np.swapaxes(conv2d_img, 0, 3)\n",
    "for i, one_img in enumerate(conv2d_img):\n",
    "    print(one_img.reshape(2,2)) # <- 1111필터로 필터안의 값들의 합으로 layer 형성. \n",
    "    plt.subplot(1,2,i+1), plt.imshow(one_img.reshape(2,2),cmap = \"gray\")\n",
    "    plt.show()\n",
    "\n",
    "#Image: (image의 수, row, col, channel(깊이..?)),\n",
    "#Filter: (row, col, channel, filter의 수)\n",
    "#Image는 앞에 image의 수, Filter는 뒤에 filter의 수를 붙여준다.\n"
   ]
  },
  {
   "cell_type": "code",
   "execution_count": 33,
   "metadata": {},
   "outputs": [
    {
     "name": "stdout",
     "output_type": "stream",
     "text": [
      "image.shape (1, 3, 3, 1)\n",
      "weight.shape (2, 2, 1, 1)\n",
      "conv2d_img.shape (1, 3, 3, 1)\n",
      "[[12. 16.  9.]\n",
      " [24. 28. 15.]\n",
      " [15. 17.  9.]]\n"
     ]
    },
    {
     "data": {
      "image/png": "[encoded data removed]",
      "text/plain": [
       "<matplotlib.figure.Figure at 0x1a813fde1d0>"
      ]
     },
     "metadata": {},
     "output_type": "display_data"
    }
   ],
   "source": [
    "#Pdding: SAME 의 경우,\n",
    "#Filter, stride의 크기에 상관없이 output layer가 input과 동일한 size가 되도록 padding 함\n",
    "\n",
    "#Simple convolutional layer\n",
    "#shape of parameters\n",
    "#Image: 1,3,3,1 ;; Filter: 2,2,1,1 ;; Stride: 1x1 ;; Padding: VALID (Padding없이)\n",
    "#Image: (image의 수, row, col, channel(깊이..?)),\n",
    "#Filter: (row, col, channel, filter의 수)\n",
    "print(\"image.shape\", image.shape)\n",
    "weight = tf.constant([[[[1.]],[[1.]]],\n",
    "                      [[[1.]],[[1.]]]]) ##Filter (weight -> 1로 초기화)\n",
    "print(\"weight.shape\",weight.shape)\n",
    "#Q. strides = [1,1,1,1] <- 이게 어떻게 1x1 stride인거지???\n",
    "#1x1x1x1 이라는 뜻인가..?\n",
    "#padding = \"SAME\" 조건으로 conv2d가 1,3,3,1 shape이 되도록 자동적으로 1 padding이 됨\n",
    "conv2d = tf.nn.conv2d(image, weight, strides = [1,1,1,1], padding = \"SAME\")\n",
    "conv2d_img = conv2d.eval()\n",
    "print(\"conv2d_img.shape\",conv2d_img.shape)\n",
    "conv2d_img = np.swapaxes(conv2d_img, 0, 3)\n",
    "for i, one_img in enumerate(conv2d_img):\n",
    "    print(one_img.reshape(3,3)) # <- 1111필터로 필터안의 값들의 합으로 layer 형성. \n",
    "    plt.subplot(1,2,i+1), plt.imshow(one_img.reshape(3,3),cmap = \"gray\")\n",
    "    plt.show()\n",
    "    #cmap = \"gray\"는 1~9,10~18,19~27...순으로 밝은것부터 제일 어두운색까지 반복되는듯.\n",
    "    #cmap = \"Greys\"는 반대로 1~9,10~18,19~27...순으로 어두운것부터 제일 밝은색까지 반복되는듯."
   ]
  },
  {
   "cell_type": "code",
   "execution_count": 17,
   "metadata": {},
   "outputs": [
    {
     "name": "stdout",
     "output_type": "stream",
     "text": [
      "(1, 3, 3, 1)\n"
     ]
    },
    {
     "name": "stderr",
     "output_type": "stream",
     "text": [
      "C:\\ProgramData\\Anaconda3\\lib\\site-packages\\tensorflow\\python\\client\\session.py:1702: UserWarning: An interactive session is already active. This can cause out-of-memory errors in some cases. You must explicitly call `InteractiveSession.close()` to release resources held by the other session(s).\n",
      "  warnings.warn('An interactive session is already active. This can '\n"
     ]
    },
    {
     "data": {
      "image/png": "[encoded data removed]",
      "text/plain": [
       "<matplotlib.figure.Figure at 0x1a813e77b70>"
      ]
     },
     "metadata": {},
     "output_type": "display_data"
    }
   ],
   "source": [
    "sess = tf.InteractiveSession()\n",
    "image = np.array([[[[1],[2],[3]],\n",
    "                  [[4],[5],[6]],\n",
    "                  [[7],[8],[9]]]], dtype = np.float32)\n",
    "print(image.shape)\n",
    "plt.imshow(image.reshape(3,3),cmap=\"Greys\")\n",
    "plt.show()"
   ]
  },
  {
   "cell_type": "code",
   "execution_count": 44,
   "metadata": {},
   "outputs": [
    {
     "name": "stderr",
     "output_type": "stream",
     "text": [
      "C:\\ProgramData\\Anaconda3\\lib\\site-packages\\tensorflow\\python\\client\\session.py:1702: UserWarning: An interactive session is already active. This can cause out-of-memory errors in some cases. You must explicitly call `InteractiveSession.close()` to release resources held by the other session(s).\n",
      "  warnings.warn('An interactive session is already active. This can '\n"
     ]
    },
    {
     "name": "stdout",
     "output_type": "stream",
     "text": [
      "(1, 3, 3, 1)\n",
      "(2, 2, 1, 3)\n",
      "(1, 2, 2, 3)\n",
      "[[12. 16.]\n",
      " [24. 28.]]\n",
      "[[120. 160.]\n",
      " [240. 280.]]\n",
      "[[-12. -16.]\n",
      " [-24. -28.]]\n"
     ]
    },
    {
     "data": {
      "image/png": "[encoded data removed]",
      "text/plain": [
       "<matplotlib.figure.Figure at 0x1a813de3780>"
      ]
     },
     "metadata": {},
     "output_type": "display_data"
    }
   ],
   "source": [
    "#Image 1개, Filter 3개, Stride 1x1, Padding: VALID\n",
    "#1,3,3,1     2,2,1,3\n",
    "sess = tf.InteractiveSession()\n",
    "image = np.array([[[[1],[2],[3]],\n",
    "                  [[4],[5],[6]],\n",
    "                  [[7],[8],[9]]]], dtype = np.float32) #shape = (1,3,3,1)\n",
    "print(image.shape)\n",
    "\n",
    "weight = tf.constant([[[[1.,10.,-1.]],[[1.,10.,-1.]]],\n",
    "                     [[[1.,10.,-1.]],[[1.,10.,-1.]]]]) # shape = (2,2,1,3)\n",
    "print(weight.shape)\n",
    "\n",
    "conv2d = tf.nn.conv2d(image, weight, strides = [1,1,1,1], padding = \"VALID\")\n",
    "conv2d_img = conv2d.eval()\n",
    "print(conv2d_img.shape)\n",
    "\n",
    "conv2d_img = np.swapaxes(conv2d_img, 0, 3)\n",
    "for i, one_img in enumerate(conv2d_img):\n",
    "    print(one_img.reshape(2,2))\n",
    "    #one_img =  [[[12.][16.]][[24.][28.]]] \n",
    "    plt.subplot(1,3,i+1), plt.imshow(one_img.reshape(2,2),cmap = \"gray\")\n",
    "plt.show()"
   ]
  },
  {
   "cell_type": "code",
   "execution_count": 43,
   "metadata": {},
   "outputs": [
    {
     "name": "stderr",
     "output_type": "stream",
     "text": [
      "C:\\ProgramData\\Anaconda3\\lib\\site-packages\\tensorflow\\python\\client\\session.py:1702: UserWarning: An interactive session is already active. This can cause out-of-memory errors in some cases. You must explicitly call `InteractiveSession.close()` to release resources held by the other session(s).\n",
      "  warnings.warn('An interactive session is already active. This can '\n"
     ]
    },
    {
     "name": "stdout",
     "output_type": "stream",
     "text": [
      "(1, 3, 3, 1)\n",
      "(2, 2, 1, 3)\n",
      "(1, 3, 3, 3)\n",
      "[[12. 16.  9.]\n",
      " [24. 28. 15.]\n",
      " [15. 17.  9.]]\n",
      "[[120. 160.  90.]\n",
      " [240. 280. 150.]\n",
      " [150. 170.  90.]]\n",
      "[[-12. -16.  -9.]\n",
      " [-24. -28. -15.]\n",
      " [-15. -17.  -9.]]\n"
     ]
    },
    {
     "data": {
      "image/png": "[encoded data removed]",
      "text/plain": [
       "<matplotlib.figure.Figure at 0x1a815294f98>"
      ]
     },
     "metadata": {},
     "output_type": "display_data"
    }
   ],
   "source": [
    "#Image 1개, Filter 2개, Stride 1x1, Padding: SAME\n",
    "#1,3,3,1     2,2,1,1\n",
    "sess = tf.InteractiveSession()\n",
    "image = np.array([[[[1],[2],[3]],\n",
    "                  [[4],[5],[6]],\n",
    "                  [[7],[8],[9]]]], dtype = np.float32) #shape = (1,3,3,1)\n",
    "print(image.shape)\n",
    "\n",
    "weight = tf.constant([[[[1.,10.,-1.]],[[1.,10.,-1.]]],\n",
    "                     [[[1.,10.,-1.]],[[1.,10.,-1.]]]]) # shape = (2,2,1,3)\n",
    "print(weight.shape)\n",
    "\n",
    "conv2d = tf.nn.conv2d(image, weight, strides = [1,1,1,1], padding = \"SAME\")\n",
    "conv2d_img = conv2d.eval()\n",
    "print(conv2d_img.shape)\n",
    "\n",
    "conv2d_img = np.swapaxes(conv2d_img, 0, 3)\n",
    "for i, one_img in enumerate(conv2d_img):\n",
    "    print(one_img.reshape(3,3))\n",
    "    #one_img =  [[[12.][16.]][[24.][28.]]] \n",
    "    plt.subplot(1,3,i+1), plt.imshow(one_img.reshape(3,3),cmap = \"gray\")\n",
    "plt.show()"
   ]
  },
  {
   "cell_type": "code",
   "execution_count": 47,
   "metadata": {},
   "outputs": [
    {
     "name": "stdout",
     "output_type": "stream",
     "text": [
      "(1, 2, 2, 1)\n",
      "[[[[4.]\n",
      "   [3.]]\n",
      "\n",
      "  [[2.]\n",
      "   [1.]]]]\n"
     ]
    }
   ],
   "source": [
    "#Max Pooling\n",
    "image = np.array([[[[4],[3]],\n",
    "                   [[2],[1]]]], dtype = np.float32)\n",
    "pool = tf.nn.max_pool(image, ksize = [1,2,2,1], \n",
    "                        strides = [1,1,1,1], padding=\"SAME\")\n",
    "print(pool.shape)\n",
    "print(pool.eval())"
   ]
  },
  {
   "cell_type": "code",
   "execution_count": 49,
   "metadata": {},
   "outputs": [
    {
     "name": "stdout",
     "output_type": "stream",
     "text": [
      "Extracting MNIST_data/train-images-idx3-ubyte.gz\n",
      "Extracting MNIST_data/train-labels-idx1-ubyte.gz\n",
      "Extracting MNIST_data/t10k-images-idx3-ubyte.gz\n",
      "Extracting MNIST_data/t10k-labels-idx1-ubyte.gz\n"
     ]
    }
   ],
   "source": [
    "from tensorflow.examples.tutorials.mnist import input_data\n",
    "mnist = input_data.read_data_sets(\"MNIST_data/\",one_hot = True)"
   ]
  },
  {
   "cell_type": "code",
   "execution_count": 53,
   "metadata": {},
   "outputs": [
    {
     "data": {
      "image/png": "[encoded data removed]",
      "text/plain": [
       "<matplotlib.figure.Figure at 0x1a8167f2b38>"
      ]
     },
     "metadata": {},
     "output_type": "display_data"
    }
   ],
   "source": [
    "img = mnist.train.images[0].reshape(28,28)\n",
    "plt.imshow(img,cmap=\"gray\")\n",
    "plt.show()"
   ]
  },
  {
   "cell_type": "code",
   "execution_count": 62,
   "metadata": {},
   "outputs": [
    {
     "name": "stderr",
     "output_type": "stream",
     "text": [
      "C:\\ProgramData\\Anaconda3\\lib\\site-packages\\tensorflow\\python\\client\\session.py:1702: UserWarning: An interactive session is already active. This can cause out-of-memory errors in some cases. You must explicitly call `InteractiveSession.close()` to release resources held by the other session(s).\n",
      "  warnings.warn('An interactive session is already active. This can '\n"
     ]
    },
    {
     "name": "stdout",
     "output_type": "stream",
     "text": [
      "Tensor(\"Conv2D_38:0\", shape=(1, 14, 14, 5), dtype=float32)\n"
     ]
    },
    {
     "data": {
      "image/png": "[encoded data removed]",
      "text/plain": [
       "<matplotlib.figure.Figure at 0x1a81536abe0>"
      ]
     },
     "metadata": {},
     "output_type": "display_data"
    }
   ],
   "source": [
    "#MNIST convolution layer\n",
    "img = mnist.train.images[0].reshape(28,28)\n",
    "\n",
    "sess = tf.InteractiveSession()\n",
    "#1 image of 28x28x1\n",
    "#-1은 unknown demention 이라고 하는거보니 -1은 알아서 계산됨\n",
    "img = img.reshape(-1,28,28,1) #-1:n개, 28x28x1 -> 1색깔, 28x28 image\n",
    "#5 Filters of 3x3x1 (random([shape],standard deviation=0.01))\n",
    "W1 = tf.Variable(tf.random_normal([3,3,1,5], stddev=0.01))\n",
    "#stride = 2x2x1\n",
    "conv2d = tf.nn.conv2d(img, W1, strides = [1,2,2,1], padding=\"SAME\")\n",
    "print(conv2d)\n",
    "#padding = \"SAME\"이니까 28+1 -> 29로 계산\n",
    "#(29-3)/2 +1 =14 -> output of 1x14x14x1 \n",
    "\n",
    "sess.run(tf.global_variables_initializer())\n",
    "conv2d_img = conv2d.eval()\n",
    "conv2d_img = np.swapaxes(conv2d_img, 0, 3)\n",
    "for i, one_img in enumerate(conv2d_img):\n",
    "    plt.subplot(1,5,i+1), plt.imshow(one_img.reshape(14,14), cmap = \"gray\")\n",
    "plt.show()\n"
   ]
  },
  {
   "cell_type": "code",
   "execution_count": 63,
   "metadata": {},
   "outputs": [
    {
     "name": "stdout",
     "output_type": "stream",
     "text": [
      "Tensor(\"MaxPool_3:0\", shape=(1, 7, 7, 5), dtype=float32)\n"
     ]
    },
    {
     "data": {
      "image/png": "[encoded data removed]",
      "text/plain": [
       "<matplotlib.figure.Figure at 0x1a816786cc0>"
      ]
     },
     "metadata": {},
     "output_type": "display_data"
    }
   ],
   "source": [
    "#위코드의 conv2d를 이용한 max pooling\n",
    "#stride가 2x2x1에, padding=\"SAME\" 이니까 14x14 -> 7x7이 됨\n",
    "pool = tf.nn.max_pool(conv2d, ksize=[1,2,2,1], \n",
    "                      strides=[1,2,2,1], padding=\"SAME\")\n",
    "print(pool)\n",
    "sess.run(tf.global_variables_initializer())\n",
    "pool_img = pool.eval()\n",
    "pool_img = np.swapaxes(pool_img, 0, 3)\n",
    "for i, one_img in enumerate(pool_img):\n",
    "    plt.subplot(1,5,i+1), plt.imshow(one_img.reshape(7,7), cmap = \"gray\")\n",
    "plt.show()\n",
    "#sub sampling을 했기에 해상도는 떨어져있음"
   ]
  },
  {
   "cell_type": "code",
   "execution_count": null,
   "metadata": {
    "collapsed": true
   },
   "outputs": [],
   "source": []
  }
 ],
 "metadata": {
  "kernelspec": {
   "display_name": "Python 3",
   "language": "python",
   "name": "python3"
  },
  "language_info": {
   "codemirror_mode": {
    "name": "ipython",
    "version": 3
   },
   "file_extension": ".py",
   "mimetype": "text/x-python",
   "name": "python",
   "nbconvert_exporter": "python",
   "pygments_lexer": "ipython3",
   "version": "3.6.1"
  }
 },
 "nbformat": 4,
 "nbformat_minor": 2
}
