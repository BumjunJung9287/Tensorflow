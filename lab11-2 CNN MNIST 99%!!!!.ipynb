{
 "cells": [
  {
   "cell_type": "code",
   "execution_count": 32,
   "metadata": {
    "collapsed": true
   },
   "outputs": [],
   "source": [
    "import tensorflow as tf\n",
    "import numpy as np\n",
    "import matplotlib.pyplot as plt\n",
    "import random\n",
    "tf.reset_default_graph()  # Xavier 가중치 초기 에러 방지"
   ]
  },
  {
   "cell_type": "code",
   "execution_count": 4,
   "metadata": {},
   "outputs": [
    {
     "name": "stdout",
     "output_type": "stream",
     "text": [
      "Extracting MNIST_data/train-images-idx3-ubyte.gz\n",
      "Extracting MNIST_data/train-labels-idx1-ubyte.gz\n",
      "Extracting MNIST_data/t10k-images-idx3-ubyte.gz\n",
      "Extracting MNIST_data/t10k-labels-idx1-ubyte.gz\n"
     ]
    }
   ],
   "source": [
    "from tensorflow.examples.tutorials.mnist import input_data\n",
    "mnist = input_data.read_data_sets(\"MNIST_data/\",one_hot = True)"
   ]
  },
  {
   "cell_type": "code",
   "execution_count": null,
   "metadata": {
    "collapsed": true
   },
   "outputs": [],
   "source": [
    "#Simple CNN \n",
    "#input, (conv1, pool1), (conv2, pool2) -> FC (Fully connected layer)\n",
    "#          (Layer1)         (Layer2)"
   ]
  },
  {
   "cell_type": "code",
   "execution_count": 33,
   "metadata": {},
   "outputs": [
    {
     "name": "stdout",
     "output_type": "stream",
     "text": [
      "Learning started. It takes sometime\n",
      "Epoch: 0001 cost = 0.169720759\n",
      "Epoch: 0002 cost = 0.055075374\n",
      "Epoch: 0003 cost = 0.042905780\n",
      "Epoch: 0004 cost = 0.034584143\n",
      "Epoch: 0005 cost = 0.031388430\n",
      "Epoch: 0006 cost = 0.029143217\n",
      "Epoch: 0007 cost = 0.023993265\n",
      "Epoch: 0008 cost = 0.022288998\n",
      "Epoch: 0009 cost = 0.020959929\n",
      "Epoch: 0010 cost = 0.026018592\n",
      "Epoch: 0011 cost = 0.017338480\n",
      "Epoch: 0012 cost = 0.019893128\n",
      "Epoch: 0013 cost = 0.022416146\n",
      "Epoch: 0014 cost = 0.020029083\n",
      "Epoch: 0015 cost = 0.016550977\n",
      "Learning Finished!\n",
      "Accuracy: 0.9853\n",
      "Label: [9]\n",
      "Prediction: [9]\n"
     ]
    },
    {
     "data": {
      "image/png": "[encoded data removed]",
      "text/plain": [
       "<matplotlib.figure.Figure at 0x154029e04e0>"
      ]
     },
     "metadata": {},
     "output_type": "display_data"
    }
   ],
   "source": [
    "tf.reset_default_graph() # Xavier 가중치 초기 에러 방지\n",
    "X = tf.placeholder(tf.float32, [None, 784])\n",
    "#conv2d를만들때는 img_data로 변환해서 input을 넣어줌\n",
    "X_img = tf.reshape(X, [-1,28,28,1]) # img 28x28x1 (black/white)\n",
    "Y = tf.placeholder(tf.float32, [None, 10])\n",
    "\n",
    "#L1 ImgIn shape=(?,28,28,1) (Layer1)\n",
    "# 32Filters of 3x3x1\n",
    "W1 = tf.Variable(tf.random_normal([3,3,1,32], stddev=0.01))\n",
    "#Conv -> (?,28,28,1), Pool -> (?,14,14,32)\n",
    "L1 = tf.nn.conv2d(X_img, W1, strides=[1,1,1,1], padding=\"SAME\")\n",
    "L1 = tf.nn.relu(L1) #back propagation이 잘되게하기위한 relu\n",
    "#max_pool filter2x2x1, stride2x2x1 -> 14x14x1\n",
    "L1 = tf.nn.max_pool(L1, ksize=[1,2,2,1],\n",
    "                   strides=[1,2,2,1], padding=\"SAME\")\n",
    "\n",
    "#L2 ImgIn shape=(?,14,14,32)\n",
    "W2 = tf.Variable(tf.random_normal([3,3,32,64],stddev=0.01))\n",
    "#Conv -> (?,14,14,64), Pool -> (?,7,7,64)\n",
    "L2 = tf.nn.conv2d(L1, W2, strides=[1,1,1,1], padding=\"SAME\")\n",
    "L2 = tf.nn.relu(L2)\n",
    "L2 = tf.nn.max_pool(L2, ksize=[1,2,2,1], strides=[1,2,2,1], padding=\"SAME\")\n",
    "L2 = tf.reshape(L2, [-1,7*7*64]) #FC Layer에 넣을 input (펼친 data)\n",
    "\n",
    "#7*7*64=3136\n",
    "#Final FC 7*7*64=3136 inputs -> 10 outputs\n",
    "W3 = tf.get_variable(\"W3\",shape=[7*7*64,10],\n",
    "                     initializer=tf.contrib.layers.xavier_initializer())\n",
    "b = tf.Variable(tf.random_normal([10]))\n",
    "hypothesis = tf.matmul(L2,W3) + b\n",
    "\n",
    "#parameters\n",
    "learning_rate=0.01\n",
    "training_epochs = 15\n",
    "batch_size = 100\n",
    "total_batch = int(mnist.train.num_examples / batch_size)\n",
    "\n",
    "#defice cost/loss & optimizer\n",
    "cost = tf.reduce_mean(tf.nn.softmax_cross_entropy_with_logits(logits=hypothesis, labels=Y))\n",
    "optimizer = tf.train.AdamOptimizer(learning_rate=learning_rate).minimize(cost)\n",
    "\n",
    "sess= tf.Session()\n",
    "sess.run(tf.global_variables_initializer())\n",
    "\n",
    "print(\"Learning started. It takes sometime\")\n",
    "for epoch in range(training_epochs):\n",
    "    avg_cost = 0\n",
    "    for i in range(total_batch):\n",
    "        batch_xs, batch_ys = mnist.train.next_batch(batch_size)\n",
    "        feed_dict = {X:batch_xs, Y:batch_ys}\n",
    "        c, _, =sess.run([cost, optimizer], feed_dict = feed_dict)\n",
    "        avg_cost += c / total_batch\n",
    "    print(\"Epoch:\",\"%04d\"%(epoch+1), \"cost =\",\"{:.9f}\".format(avg_cost))\n",
    "\n",
    "print(\"Learning Finished!\")\n",
    "\n",
    "#Test model and check accuracy\n",
    "correct_prediction = tf.equal(tf.argmax(hypothesis,1), tf.argmax(Y,1))\n",
    "accuracy = tf.reduce_mean(tf.cast(correct_prediction, tf.float32))\n",
    "print(\"Accuracy:\", sess.run(accuracy, feed_dict = {X:mnist.test.images, Y:mnist.test.labels}))\n",
    "\n",
    "#Get one and predict\n",
    "r = random.randint(0, mnist.test.num_examples-1)\n",
    "print(\"Label:\", sess.run(tf.argmax(mnist.test.labels[r:r+1],1)))\n",
    "print(\"Prediction:\", sess.run(tf.argmax(hypothesis,1), feed_dict={X:mnist.test.images[r:r+1]}))\n",
    "\n",
    "plt.imshow(mnist.test.images[r:r+1].reshape(28,28), cmap=\"Greys\", interpolation=\"nearest\")\n",
    "plt.show()\n",
    "##우와.. running time 많이 걸렸지만 98.81% accuracy 나왔다 \n",
    "##CNN 쩌네\n"
   ]
  },
  {
   "cell_type": "code",
   "execution_count": 46,
   "metadata": {},
   "outputs": [
    {
     "name": "stdout",
     "output_type": "stream",
     "text": [
      "Label: [1]\n",
      "Miss prediction: [1]\n"
     ]
    },
    {
     "data": {
      "image/png": "[encoded data removed]",
      "text/plain": [
       "<matplotlib.figure.Figure at 0x1540d7e0320>"
      ]
     },
     "metadata": {},
     "output_type": "display_data"
    },
    {
     "name": "stdout",
     "output_type": "stream",
     "text": [
      "Label: [6]\n",
      "Miss prediction: [6]\n"
     ]
    },
    {
     "data": {
      "image/png": "[encoded data removed]",
      "text/plain": [
       "<matplotlib.figure.Figure at 0x1540d8012e8>"
      ]
     },
     "metadata": {},
     "output_type": "display_data"
    },
    {
     "name": "stdout",
     "output_type": "stream",
     "text": [
      "Label: [1]\n",
      "Miss prediction: [1]\n"
     ]
    },
    {
     "data": {
      "image/png": "[encoded data removed]",
      "text/plain": [
       "<matplotlib.figure.Figure at 0x1540d2b8b00>"
      ]
     },
     "metadata": {},
     "output_type": "display_data"
    },
    {
     "name": "stdout",
     "output_type": "stream",
     "text": [
      "Label: [1]\n",
      "Miss prediction: [1]\n"
     ]
    },
    {
     "data": {
      "image/png": "[encoded data removed]",
      "text/plain": [
       "<matplotlib.figure.Figure at 0x154123eb278>"
      ]
     },
     "metadata": {},
     "output_type": "display_data"
    },
    {
     "name": "stdout",
     "output_type": "stream",
     "text": [
      "Label: [8]\n",
      "Miss prediction: [8]\n"
     ]
    },
    {
     "data": {
      "image/png": "[encoded data removed]",
      "text/plain": [
       "<matplotlib.figure.Figure at 0x15412478b70>"
      ]
     },
     "metadata": {},
     "output_type": "display_data"
    },
    {
     "name": "stdout",
     "output_type": "stream",
     "text": [
      "Label: [4]\n",
      "Miss prediction: [4]\n"
     ]
    },
    {
     "data": {
      "image/png": "[encoded data removed]",
      "text/plain": [
       "<matplotlib.figure.Figure at 0x1541a4026a0>"
      ]
     },
     "metadata": {},
     "output_type": "display_data"
    },
    {
     "name": "stdout",
     "output_type": "stream",
     "text": [
      "Label: [9]\n",
      "Miss prediction: [9]\n"
     ]
    },
    {
     "data": {
      "image/png": "[encoded data removed]",
      "text/plain": [
       "<matplotlib.figure.Figure at 0x1541a438128>"
      ]
     },
     "metadata": {},
     "output_type": "display_data"
    },
    {
     "name": "stdout",
     "output_type": "stream",
     "text": [
      "Label: [0]\n",
      "Miss prediction: [0]\n"
     ]
    },
    {
     "data": {
      "image/png": "[encoded data removed]",
      "text/plain": [
       "<matplotlib.figure.Figure at 0x1541a4dc518>"
      ]
     },
     "metadata": {},
     "output_type": "display_data"
    },
    {
     "name": "stdout",
     "output_type": "stream",
     "text": [
      "Label: [7]\n",
      "Miss prediction: [7]\n"
     ]
    },
    {
     "data": {
      "image/png": "[encoded data removed]",
      "text/plain": [
       "<matplotlib.figure.Figure at 0x1541a5e88d0>"
      ]
     },
     "metadata": {},
     "output_type": "display_data"
    },
    {
     "name": "stdout",
     "output_type": "stream",
     "text": [
      "Label: [5]\n",
      "Miss prediction: [5]\n"
     ]
    },
    {
     "data": {
      "image/png": "[encoded data removed]",
      "text/plain": [
       "<matplotlib.figure.Figure at 0x1541a68d860>"
      ]
     },
     "metadata": {},
     "output_type": "display_data"
    },
    {
     "name": "stdout",
     "output_type": "stream",
     "text": [
      "Label: [0]\n",
      "Miss prediction: [0]\n"
     ]
    },
    {
     "data": {
      "image/png": "[encoded data removed]",
      "text/plain": [
       "<matplotlib.figure.Figure at 0x1541a724f28>"
      ]
     },
     "metadata": {},
     "output_type": "display_data"
    },
    {
     "name": "stdout",
     "output_type": "stream",
     "text": [
      "Label: [0]\n",
      "Miss prediction: [0]\n"
     ]
    },
    {
     "data": {
      "image/png": "[encoded data removed]",
      "text/plain": [
       "<matplotlib.figure.Figure at 0x1541b7385f8>"
      ]
     },
     "metadata": {},
     "output_type": "display_data"
    },
    {
     "name": "stdout",
     "output_type": "stream",
     "text": [
      "Label: [5]\n",
      "Miss prediction: [5]\n"
     ]
    },
    {
     "data": {
      "image/png": "[encoded data removed]",
      "text/plain": [
       "<matplotlib.figure.Figure at 0x1541b845978>"
      ]
     },
     "metadata": {},
     "output_type": "display_data"
    },
    {
     "name": "stdout",
     "output_type": "stream",
     "text": [
      "Label: [9]\n",
      "Miss prediction: [9]\n"
     ]
    },
    {
     "data": {
      "image/png": "[encoded data removed]",
      "text/plain": [
       "<matplotlib.figure.Figure at 0x1541b8dc9b0>"
      ]
     },
     "metadata": {},
     "output_type": "display_data"
    },
    {
     "name": "stdout",
     "output_type": "stream",
     "text": [
      "Label: [0]\n",
      "Miss prediction: [0]\n"
     ]
    },
    {
     "data": {
      "image/png": "[encoded data removed]",
      "text/plain": [
       "<matplotlib.figure.Figure at 0x1541b97f6d8>"
      ]
     },
     "metadata": {},
     "output_type": "display_data"
    },
    {
     "name": "stdout",
     "output_type": "stream",
     "text": [
      "Label: [0]\n",
      "Miss prediction: [0]\n"
     ]
    },
    {
     "data": {
      "image/png": "[encoded data removed]",
      "text/plain": [
       "<matplotlib.figure.Figure at 0x1541b9c92e8>"
      ]
     },
     "metadata": {},
     "output_type": "display_data"
    },
    {
     "name": "stdout",
     "output_type": "stream",
     "text": [
      "Label: [0]\n",
      "Miss prediction: [0]\n"
     ]
    },
    {
     "data": {
      "image/png": "[encoded data removed]",
      "text/plain": [
       "<matplotlib.figure.Figure at 0x1541bac3828>"
      ]
     },
     "metadata": {},
     "output_type": "display_data"
    },
    {
     "name": "stdout",
     "output_type": "stream",
     "text": [
      "Label: [2]\n",
      "Miss prediction: [2]\n"
     ]
    },
    {
     "data": {
      "image/png": "[encoded data removed]",
      "text/plain": [
       "<matplotlib.figure.Figure at 0x1541bb67a20>"
      ]
     },
     "metadata": {},
     "output_type": "display_data"
    },
    {
     "name": "stdout",
     "output_type": "stream",
     "text": [
      "Label: [2]\n",
      "Miss prediction: [2]\n"
     ]
    },
    {
     "data": {
      "image/png": "[encoded data removed]",
      "text/plain": [
       "<matplotlib.figure.Figure at 0x1541bbf50b8>"
      ]
     },
     "metadata": {},
     "output_type": "display_data"
    },
    {
     "name": "stdout",
     "output_type": "stream",
     "text": [
      "Label: [2]\n",
      "Miss prediction: [2]\n"
     ]
    },
    {
     "data": {
      "image/png": "[encoded data removed]",
      "text/plain": [
       "<matplotlib.figure.Figure at 0x1541bb48b00>"
      ]
     },
     "metadata": {},
     "output_type": "display_data"
    },
    {
     "name": "stdout",
     "output_type": "stream",
     "text": [
      "Label: [4]\n",
      "Miss prediction: [4]\n"
     ]
    },
    {
     "data": {
      "image/png": "[encoded data removed]",
      "text/plain": [
       "<matplotlib.figure.Figure at 0x1541b845358>"
      ]
     },
     "metadata": {},
     "output_type": "display_data"
    },
    {
     "name": "stdout",
     "output_type": "stream",
     "text": [
      "Label: [4]\n",
      "Miss prediction: [4]\n"
     ]
    },
    {
     "data": {
      "image/png": "[encoded data removed]",
      "text/plain": [
       "<matplotlib.figure.Figure at 0x1541a69f1d0>"
      ]
     },
     "metadata": {},
     "output_type": "display_data"
    },
    {
     "name": "stdout",
     "output_type": "stream",
     "text": [
      "Label: [4]\n",
      "Miss prediction: [4]\n"
     ]
    },
    {
     "data": {
      "image/png": "[encoded data removed]",
      "text/plain": [
       "<matplotlib.figure.Figure at 0x154125419e8>"
      ]
     },
     "metadata": {},
     "output_type": "display_data"
    },
    {
     "name": "stdout",
     "output_type": "stream",
     "text": [
      "Label: [9]\n",
      "Miss prediction: [9]\n"
     ]
    },
    {
     "data": {
      "image/png": "[encoded data removed]",
      "text/plain": [
       "<matplotlib.figure.Figure at 0x1540d2b8f28>"
      ]
     },
     "metadata": {},
     "output_type": "display_data"
    },
    {
     "name": "stdout",
     "output_type": "stream",
     "text": [
      "Label: [6]\n",
      "Miss prediction: [6]\n"
     ]
    },
    {
     "data": {
      "image/png": "[encoded data removed]",
      "text/plain": [
       "<matplotlib.figure.Figure at 0x15411f0eb70>"
      ]
     },
     "metadata": {},
     "output_type": "display_data"
    },
    {
     "name": "stdout",
     "output_type": "stream",
     "text": [
      "Label: [9]\n",
      "Miss prediction: [9]\n"
     ]
    },
    {
     "data": {
      "image/png": "[encoded data removed]",
      "text/plain": [
       "<matplotlib.figure.Figure at 0x154075a0518>"
      ]
     },
     "metadata": {},
     "output_type": "display_data"
    },
    {
     "name": "stdout",
     "output_type": "stream",
     "text": [
      "Label: [3]\n",
      "Miss prediction: [3]\n"
     ]
    },
    {
     "data": {
      "image/png": "[encoded data removed]",
      "text/plain": [
       "<matplotlib.figure.Figure at 0x1541badb940>"
      ]
     },
     "metadata": {},
     "output_type": "display_data"
    },
    {
     "name": "stdout",
     "output_type": "stream",
     "text": [
      "Label: [4]\n",
      "Miss prediction: [4]\n"
     ]
    },
    {
     "data": {
      "image/png": "[encoded data removed]",
      "text/plain": [
       "<matplotlib.figure.Figure at 0x1541244a898>"
      ]
     },
     "metadata": {},
     "output_type": "display_data"
    },
    {
     "name": "stdout",
     "output_type": "stream",
     "text": [
      "Label: [0]\n",
      "Miss prediction: [0]\n"
     ]
    },
    {
     "data": {
      "image/png": "[encoded data removed]",
      "text/plain": [
       "<matplotlib.figure.Figure at 0x154123c56a0>"
      ]
     },
     "metadata": {},
     "output_type": "display_data"
    },
    {
     "name": "stdout",
     "output_type": "stream",
     "text": [
      "Label: [7]\n",
      "Miss prediction: [7]\n"
     ]
    },
    {
     "data": {
      "image/png": "[encoded data removed]",
      "text/plain": [
       "<matplotlib.figure.Figure at 0x1541a4fe860>"
      ]
     },
     "metadata": {},
     "output_type": "display_data"
    },
    {
     "name": "stdout",
     "output_type": "stream",
     "text": [
      "Label: [1]\n",
      "Miss prediction: [1]\n"
     ]
    },
    {
     "data": {
      "image/png": "[encoded data removed]",
      "text/plain": [
       "<matplotlib.figure.Figure at 0x1541a63d518>"
      ]
     },
     "metadata": {},
     "output_type": "display_data"
    },
    {
     "name": "stdout",
     "output_type": "stream",
     "text": [
      "Label: [5]\n",
      "Miss prediction: [5]\n"
     ]
    },
    {
     "data": {
      "image/png": "[encoded data removed]",
      "text/plain": [
       "<matplotlib.figure.Figure at 0x1541242c208>"
      ]
     },
     "metadata": {},
     "output_type": "display_data"
    },
    {
     "name": "stdout",
     "output_type": "stream",
     "text": [
      "Label: [9]\n",
      "Miss prediction: [9]\n"
     ]
    },
    {
     "data": {
      "image/png": "[encoded data removed]",
      "text/plain": [
       "<matplotlib.figure.Figure at 0x1541ba8b780>"
      ]
     },
     "metadata": {},
     "output_type": "display_data"
    },
    {
     "name": "stdout",
     "output_type": "stream",
     "text": [
      "Label: [6]\n",
      "Miss prediction: [6]\n"
     ]
    },
    {
     "data": {
      "image/png": "[encoded data removed]",
      "text/plain": [
       "<matplotlib.figure.Figure at 0x15412543b00>"
      ]
     },
     "metadata": {},
     "output_type": "display_data"
    },
    {
     "name": "stdout",
     "output_type": "stream",
     "text": [
      "Label: [7]\n",
      "Miss prediction: [7]\n"
     ]
    },
    {
     "data": {
      "image/png": "[encoded data removed]",
      "text/plain": [
       "<matplotlib.figure.Figure at 0x1541b7ddd30>"
      ]
     },
     "metadata": {},
     "output_type": "display_data"
    },
    {
     "name": "stdout",
     "output_type": "stream",
     "text": [
      "Label: [2]\n",
      "Miss prediction: [2]\n"
     ]
    },
    {
     "data": {
      "image/png": "[encoded data removed]",
      "text/plain": [
       "<matplotlib.figure.Figure at 0x1541a6fccf8>"
      ]
     },
     "metadata": {},
     "output_type": "display_data"
    },
    {
     "name": "stdout",
     "output_type": "stream",
     "text": [
      "Label: [9]\n",
      "Miss prediction: [9]\n"
     ]
    },
    {
     "data": {
      "image/png": "[encoded data removed]",
      "text/plain": [
       "<matplotlib.figure.Figure at 0x1541a5bf9e8>"
      ]
     },
     "metadata": {},
     "output_type": "display_data"
    },
    {
     "name": "stdout",
     "output_type": "stream",
     "text": [
      "Label: [0]\n",
      "Miss prediction: [0]\n"
     ]
    },
    {
     "data": {
      "image/png": "[encoded data removed]",
      "text/plain": [
       "<matplotlib.figure.Figure at 0x1541b7fa7f0>"
      ]
     },
     "metadata": {},
     "output_type": "display_data"
    },
    {
     "name": "stdout",
     "output_type": "stream",
     "text": [
      "Label: [3]\n",
      "Miss prediction: [3]\n"
     ]
    },
    {
     "data": {
      "image/png": "[encoded data removed]",
      "text/plain": [
       "<matplotlib.figure.Figure at 0x1541cd489b0>"
      ]
     },
     "metadata": {},
     "output_type": "display_data"
    },
    {
     "name": "stdout",
     "output_type": "stream",
     "text": [
      "Label: [7]\n",
      "Miss prediction: [7]\n"
     ]
    },
    {
     "data": {
      "image/png": "[encoded data removed]",
      "text/plain": [
       "<matplotlib.figure.Figure at 0x1541ce55dd8>"
      ]
     },
     "metadata": {},
     "output_type": "display_data"
    }
   ],
   "source": [
    "for i in range(40):\n",
    "    r = random.randint(0, mnist.test.num_examples-1)\n",
    "    label = sess.run(tf.argmax(mnist.test.labels[r:r+1],1))\n",
    "    prediction = sess.run(tf.argmax(hypothesis,1), feed_dict={X:mnist.test.images[r:r+1]})\n",
    "    \n",
    "    print(\"Label:\", sess.run(tf.argmax(mnist.test.labels[r:r+1],1)))\n",
    "    print(\"Miss prediction:\", sess.run(tf.argmax(hypothesis,1),\n",
    "                          feed_dict={X:mnist.test.images[r:r+1]}))\n",
    "    plt.imshow(mnist.test.images[r:r+1].reshape(28,28), cmap=\"Greys\", interpolation=\"nearest\")\n",
    "    plt.show()"
   ]
  },
  {
   "cell_type": "code",
   "execution_count": 45,
   "metadata": {},
   "outputs": [
    {
     "name": "stdout",
     "output_type": "stream",
     "text": [
      "Label: [7]\n",
      "Miss prediction: [2]\n"
     ]
    },
    {
     "data": {
      "image/png": "[encoded data removed]",
      "text/plain": [
       "<matplotlib.figure.Figure at 0x1540da9f1d0>"
      ]
     },
     "metadata": {},
     "output_type": "display_data"
    },
    {
     "name": "stdout",
     "output_type": "stream",
     "text": [
      "Label: [1]\n",
      "Miss prediction: [2]\n"
     ]
    },
    {
     "data": {
      "image/png": "[encoded data removed]",
      "text/plain": [
       "<matplotlib.figure.Figure at 0x15411e772b0>"
      ]
     },
     "metadata": {},
     "output_type": "display_data"
    },
    {
     "name": "stdout",
     "output_type": "stream",
     "text": [
      "Label: [5]\n",
      "Miss prediction: [3]\n"
     ]
    },
    {
     "data": {
      "image/png": "[encoded data removed]",
      "text/plain": [
       "<matplotlib.figure.Figure at 0x15412076a90>"
      ]
     },
     "metadata": {},
     "output_type": "display_data"
    }
   ],
   "source": [
    "for i in range(400):\n",
    "    r = random.randint(0, mnist.test.num_examples-1)\n",
    "    label = sess.run(tf.argmax(mnist.test.labels[r:r+1],1))\n",
    "    prediction = sess.run(tf.argmax(hypothesis,1), feed_dict={X:mnist.test.images[r:r+1]})\n",
    "    if (label != prediction):\n",
    "        print(\"Label:\", sess.run(tf.argmax(mnist.test.labels[r:r+1],1)))\n",
    "        print(\"Miss prediction:\", sess.run(tf.argmax(hypothesis,1),\n",
    "                              feed_dict={X:mnist.test.images[r:r+1]}))\n",
    "        plt.imshow(mnist.test.images[r:r+1].reshape(28,28), cmap=\"Greys\", interpolation=\"nearest\")\n",
    "        plt.show()"
   ]
  },
  {
   "cell_type": "code",
   "execution_count": 43,
   "metadata": {},
   "outputs": [
    {
     "name": "stdout",
     "output_type": "stream",
     "text": [
      "Label: [6]\n",
      "Miss prediction: [1]\n"
     ]
    },
    {
     "data": {
      "image/png": "[encoded data removed]",
      "text/plain": [
       "<matplotlib.figure.Figure at 0x1540090d1d0>"
      ]
     },
     "metadata": {},
     "output_type": "display_data"
    },
    {
     "name": "stdout",
     "output_type": "stream",
     "text": [
      "Label: [0]\n",
      "Miss prediction: [6]\n"
     ]
    },
    {
     "data": {
      "image/png": "[encoded data removed]",
      "text/plain": [
       "<matplotlib.figure.Figure at 0x1540860a2e8>"
      ]
     },
     "metadata": {},
     "output_type": "display_data"
    },
    {
     "name": "stdout",
     "output_type": "stream",
     "text": [
      "Label: [4]\n",
      "Miss prediction: [9]\n"
     ]
    },
    {
     "data": {
      "image/png": "[encoded data removed]",
      "text/plain": [
       "<matplotlib.figure.Figure at 0x15408713550>"
      ]
     },
     "metadata": {},
     "output_type": "display_data"
    }
   ],
   "source": [
    "for i in range(400):\n",
    "    r = random.randint(0, mnist.test.num_examples-1)\n",
    "    label = sess.run(tf.argmax(mnist.test.labels[r:r+1],1))\n",
    "    prediction = sess.run(tf.argmax(hypothesis,1), feed_dict={X:mnist.test.images[r:r+1]})\n",
    "    if (label != prediction):\n",
    "        print(\"Label:\", sess.run(tf.argmax(mnist.test.labels[r:r+1],1)))\n",
    "        print(\"Miss prediction:\", sess.run(tf.argmax(hypothesis,1),\n",
    "                              feed_dict={X:mnist.test.images[r:r+1]}))\n",
    "        plt.imshow(mnist.test.images[r:r+1].reshape(28,28), cmap=\"Greys\", interpolation=\"nearest\")\n",
    "        plt.show()"
   ]
  },
  {
   "cell_type": "code",
   "execution_count": 53,
   "metadata": {},
   "outputs": [
    {
     "name": "stdout",
     "output_type": "stream",
     "text": [
      "Learning started. It takes too much time..ㅠㅠ\n",
      "I should use tensorflow GPU...\n",
      "Epoch: 0001 cost = 0.372187562\n",
      "Epoch: 0002 cost = 0.098173591\n",
      "Epoch: 0003 cost = 0.075593425\n",
      "Learning Finished!\n",
      "Accuracy: 0.9868\n"
     ]
    }
   ],
   "source": [
    "#참고로 learning_rate=0.01로 위에랑 똑같이 했더니 local minimum에 빠졌는지 cost가 0.33언저리에서 벗어나지 못함\n",
    "#위 code보다 2 layers가 추가되었으니 learning_rate를 더 적게 해야하나봄..\n",
    "#learning_rate=0.001로 다시시도 -> 학습 잘됨\n",
    "tf.reset_default_graph() # Xavier 가중치 초기 에러 방지 \n",
    "X = tf.placeholder(tf.float32, [None, 784])\n",
    "#conv2d를만들때는 img_data로 변환해서 input을 넣어줌\n",
    "X_img = tf.reshape(X, [-1,28,28,1]) # img 28x28x1 (black/white)\n",
    "Y = tf.placeholder(tf.float32, [None, 10])\n",
    "\n",
    "#parameters\n",
    "learning_rate=0.001\n",
    "training_epochs = 3\n",
    "batch_size = 100\n",
    "total_batch = int(mnist.train.num_examples / batch_size)\n",
    "\n",
    "#dropout (keep_prob) rate 0.7~0.5 on training, but should be 1 for testing\n",
    "keep_prob = tf.placeholder(tf.float32)\n",
    "\n",
    "#L1 ImgIn shape=(?,28,28,1) (Layer1)\n",
    "# 32Filters of 3x3x1\n",
    "W1 = tf.Variable(tf.random_normal([3,3,1,32], stddev=0.01))\n",
    "#Conv -> (?,28,28,1), Pool -> (?,14,14,32)\n",
    "L1 = tf.nn.conv2d(X_img, W1, strides=[1,1,1,1], padding=\"SAME\")\n",
    "L1 = tf.nn.relu(L1) #back propagation이 잘되게하기위한 relu\n",
    "#max_pool filter2x2x1, stride2x2x1 -> 14x14x1\n",
    "L1 = tf.nn.max_pool(L1, ksize=[1,2,2,1],\n",
    "                   strides=[1,2,2,1], padding=\"SAME\")\n",
    "L1 = tf.nn.dropout(L1, keep_prob=keep_prob)\n",
    "\n",
    "#L2 ImgIn shape=(?,14,14,32)\n",
    "W2 = tf.Variable(tf.random_normal([3,3,32,64],stddev=0.01))\n",
    "#Conv -> (?,14,14,64), Pool -> (?,7,7,64)\n",
    "L2 = tf.nn.conv2d(L1, W2, strides=[1,1,1,1], padding=\"SAME\")\n",
    "L2 = tf.nn.relu(L2)\n",
    "L2 = tf.nn.max_pool(L2, ksize=[1,2,2,1], strides=[1,2,2,1], padding=\"SAME\")\n",
    "L2 = tf.nn.dropout(L2, keep_prob=keep_prob)\n",
    "\n",
    "#L3 ImgIn shape=(?,7,7,64)\n",
    "W3 = tf.Variable(tf.random_normal([3,3,64,128], stddev=0.01))\n",
    "#Conv=(?,7,7,128), Pool=(?,4,4,128),\n",
    "#Reshape=(?,4*4*128) <- Flatten them for FC input\n",
    "L3 = tf.nn.conv2d(L2, W3, strides=[1,1,1,1], padding=\"SAME\")\n",
    "L3 = tf.nn.relu(L3)\n",
    "L3 = tf.nn.max_pool(L3, ksize=[1,2,2,1], strides=[1,2,2,1], padding=\"SAME\")\n",
    "L3 = tf.nn.dropout(L3,keep_prob=keep_prob)\n",
    "\n",
    "L3 = tf.reshape(L3, [-1, 4*4*128]) #Flatten them for FC input\n",
    "\n",
    "#one more layer!!\n",
    "#FC 4*4*128 inputs -> 625 outputs\n",
    "W4 = tf.get_variable(\"W4\",shape=[4*4*128,625],\n",
    "                    initializer=tf.contrib.layers.xavier_initializer())\n",
    "b4 = tf.Variable(tf.random_normal([625]))\n",
    "L4 = tf.nn.relu(tf.matmul(L3,W4) + b4)\n",
    "L4 = tf.nn.dropout(L4, keep_prob=keep_prob)\n",
    "\n",
    "#L5 Final FC 625 inputs -> 10 outputs\n",
    "W5 = tf.get_variable(\"W5\",shape=[625,10], initializer=tf.contrib.layers.xavier_initializer())\n",
    "b5 = tf.Variable(tf.random_normal([10]))\n",
    "hypothesis = tf.matmul(L4,W5) + b5\n",
    "\n",
    "#defice cost/loss & optimizer\n",
    "cost = tf.reduce_mean(tf.nn.softmax_cross_entropy_with_logits(logits=hypothesis, labels=Y))\n",
    "optimizer = tf.train.AdamOptimizer(learning_rate=learning_rate).minimize(cost)\n",
    "\n",
    "sess= tf.Session()\n",
    "sess.run(tf.global_variables_initializer())\n",
    "\n",
    "print(\"Learning started. It takes too much time..ㅠㅠ\")\n",
    "print(\"I should use tensorflow GPU...\")\n",
    "for epoch in range(training_epochs):\n",
    "    avg_cost = 0\n",
    "    for i in range(total_batch):\n",
    "        batch_xs, batch_ys = mnist.train.next_batch(batch_size)\n",
    "        feed_dict = {X:batch_xs, Y:batch_ys, keep_prob:0.7}\n",
    "        c, _, =sess.run([cost, optimizer], feed_dict = feed_dict)\n",
    "        avg_cost += c / total_batch\n",
    "    print(\"Epoch:\",\"%04d\"%(epoch+1), \"cost =\",\"{:.9f}\".format(avg_cost))\n",
    "\n",
    "print(\"Learning Finished!\")\n",
    "\n",
    "#Test model and check accuracy\n",
    "correct_prediction = tf.equal(tf.argmax(hypothesis,1), tf.argmax(Y,1))\n",
    "accuracy = tf.reduce_mean(tf.cast(correct_prediction, tf.float32))\n",
    "print(\"Accuracy:\", sess.run(accuracy, feed_dict = {X:mnist.test.images, Y:mnist.test.labels, keep_prob:1}))\n",
    "\n",
    "#이어서 학습하기 위한 변수들 저장\n",
    "W1 = sess.run(W1)\n",
    "W2 = sess.run(W2)\n",
    "W3 = sess.run(W3)\n",
    "W4 = sess.run(W4)\n",
    "W5 = sess.run(W5)\n",
    "b4 = sess.run(b4)\n",
    "b5 = sess.run(b5)"
   ]
  },
  {
   "cell_type": "code",
   "execution_count": 54,
   "metadata": {},
   "outputs": [
    {
     "name": "stdout",
     "output_type": "stream",
     "text": [
      "Learning started. It takes too much time..ㅠㅠ\n",
      "I should use tensorflow GPU...\n",
      "total_batch: 550\n",
      "Epoch: 0001 cost = 0.206206264\n",
      "Epoch: 0002 cost = 0.152207998\n",
      "Epoch: 0003 cost = 0.169769758\n",
      "Epoch: 0004 cost = 0.183161068\n",
      "Epoch: 0005 cost = 0.183393384\n",
      "Epoch: 0006 cost = 0.189659297\n",
      "Epoch: 0007 cost = 0.186895225\n",
      "Epoch: 0008 cost = 0.206125121\n",
      "Epoch: 0009 cost = 0.182044267\n",
      "Epoch: 0010 cost = 0.214869233\n",
      "Epoch: 0011 cost = 0.197168636\n",
      "Epoch: 0012 cost = 0.206606854\n",
      "Epoch: 0013 cost = 0.193856475\n",
      "Epoch: 0014 cost = 0.217110448\n",
      "Epoch: 0015 cost = 0.193094194\n",
      "Learning Finished!\n",
      "Accuracy: 0.9811\n"
     ]
    }
   ],
   "source": [
    "#learning_rate=0.01로 해서 실패함.. 이 다음 cell에 99.36%로 성공!\n",
    "#위의 W1~W5,b4,b5값 받아서 학습해보기\n",
    "X = tf.placeholder(tf.float32, [None, 784])\n",
    "#conv2d를만들때는 img_data로 변환해서 input을 넣어줌\n",
    "X_img = tf.reshape(X, [-1,28,28,1]) # img 28x28x1 (black/white)\n",
    "Y = tf.placeholder(tf.float32, [None, 10])\n",
    "\n",
    "#parameters\n",
    "learning_rate=0.01\n",
    "training_epochs = 15\n",
    "batch_size = 100\n",
    "total_batch = int(mnist.train.num_examples / batch_size)\n",
    "\n",
    "#dropout (keep_prob) rate 0.7~0.5 on training, but should be 1 for testing\n",
    "keep_prob = tf.placeholder(tf.float32)\n",
    "\n",
    "#L1 ImgIn shape=(?,28,28,1) (Layer1)\n",
    "# 32Filters of 3x3x1\n",
    "W1 = tf.Variable(W1)\n",
    "#Conv -> (?,28,28,1), Pool -> (?,14,14,32)\n",
    "L1 = tf.nn.conv2d(X_img, W1, strides=[1,1,1,1], padding=\"SAME\")\n",
    "L1 = tf.nn.relu(L1) #back propagation이 잘되게하기위한 relu\n",
    "#max_pool filter2x2x1, stride2x2x1 -> 14x14x1\n",
    "L1 = tf.nn.max_pool(L1, ksize=[1,2,2,1],\n",
    "                   strides=[1,2,2,1], padding=\"SAME\")\n",
    "L1 = tf.nn.dropout(L1, keep_prob=keep_prob)\n",
    "\n",
    "#L2 ImgIn shape=(?,14,14,32)\n",
    "W2 = tf.Variable(W2)\n",
    "#Conv -> (?,14,14,64), Pool -> (?,7,7,64)\n",
    "L2 = tf.nn.conv2d(L1, W2, strides=[1,1,1,1], padding=\"SAME\")\n",
    "L2 = tf.nn.relu(L2)\n",
    "L2 = tf.nn.max_pool(L2, ksize=[1,2,2,1], strides=[1,2,2,1], padding=\"SAME\")\n",
    "L2 = tf.nn.dropout(L2, keep_prob=keep_prob)\n",
    "\n",
    "#L3 ImgIn shape=(?,7,7,64)\n",
    "W3 = tf.Variable(W3)\n",
    "#Conv=(?,7,7,128), Pool=(?,4,4,128),\n",
    "#Reshape=(?,4*4*128) <- Flatten them for FC input\n",
    "L3 = tf.nn.conv2d(L2, W3, strides=[1,1,1,1], padding=\"SAME\")\n",
    "L3 = tf.nn.relu(L3)\n",
    "L3 = tf.nn.max_pool(L3, ksize=[1,2,2,1], strides=[1,2,2,1], padding=\"SAME\")\n",
    "L3 = tf.nn.dropout(L3,keep_prob=keep_prob)\n",
    "\n",
    "L3 = tf.reshape(L3, [-1, 4*4*128]) #Flatten them for FC input\n",
    "\n",
    "#one more layer!!\n",
    "#FC 4*4*128 inputs -> 625 outputs\n",
    "W4 = tf.Variable(W4)\n",
    "b4 = tf.Variable(b4)\n",
    "L4 = tf.nn.relu(tf.matmul(L3,W4) + b4)\n",
    "L4 = tf.nn.dropout(L4, keep_prob=keep_prob)\n",
    "\n",
    "#L5 Final FC 625 inputs -> 10 outputs\n",
    "W5 = tf.Variable(W5)\n",
    "b5 = tf.Variable(b5)\n",
    "hypothesis = tf.matmul(L4,W5) + b5\n",
    "\n",
    "#defice cost/loss & optimizer\n",
    "cost = tf.reduce_mean(tf.nn.softmax_cross_entropy_with_logits(logits=hypothesis, labels=Y))\n",
    "optimizer = tf.train.AdamOptimizer(learning_rate=learning_rate).minimize(cost)\n",
    "\n",
    "sess= tf.Session()\n",
    "sess.run(tf.global_variables_initializer())\n",
    "\n",
    "print(\"Learning started. It takes too much time..ㅠㅠ\")\n",
    "print(\"I should use tensorflow GPU...\")\n",
    "print(\"total_batch:\",total_batch)\n",
    "for epoch in range(training_epochs):\n",
    "    avg_cost = 0\n",
    "    for i in range(total_batch):\n",
    "        batch_xs, batch_ys = mnist.train.next_batch(batch_size)\n",
    "        feed_dict = {X:batch_xs, Y:batch_ys, keep_prob:0.7}\n",
    "        c, _, =sess.run([cost, optimizer], feed_dict = feed_dict)\n",
    "        avg_cost += c / total_batch\n",
    "    print(\"Epoch:\",\"%04d\"%(epoch+1), \"cost =\",\"{:.9f}\".format(avg_cost))\n",
    "\n",
    "print(\"Learning Finished!\")\n",
    "\n",
    "#Test model and check accuracy\n",
    "correct_prediction = tf.equal(tf.argmax(hypothesis,1), tf.argmax(Y,1))\n",
    "accuracy = tf.reduce_mean(tf.cast(correct_prediction, tf.float32))\n",
    "print(\"Accuracy:\", sess.run(accuracy, feed_dict = {X:mnist.test.images, Y:mnist.test.labels, keep_prob:1}))\n"
   ]
  },
  {
   "cell_type": "code",
   "execution_count": 55,
   "metadata": {
    "scrolled": true
   },
   "outputs": [
    {
     "name": "stdout",
     "output_type": "stream",
     "text": [
      "Learning started. It takes too much time..ㅠㅠ\n",
      "I should use tensorflow GPU...\n",
      "total_batch: 550\n",
      "Epoch: 0001 cost = 0.066903971\n",
      "Epoch: 0002 cost = 0.054912954\n",
      "Epoch: 0003 cost = 0.048086101\n",
      "Epoch: 0004 cost = 0.043923143\n",
      "Epoch: 0005 cost = 0.040281308\n",
      "Epoch: 0006 cost = 0.037117891\n",
      "Epoch: 0007 cost = 0.032614210\n",
      "Epoch: 0008 cost = 0.031841542\n",
      "Epoch: 0009 cost = 0.030184203\n",
      "Epoch: 0010 cost = 0.028524685\n",
      "Epoch: 0011 cost = 0.026597775\n",
      "Epoch: 0012 cost = 0.025016093\n",
      "Epoch: 0013 cost = 0.025353901\n",
      "Epoch: 0014 cost = 0.023138469\n",
      "Epoch: 0015 cost = 0.022202997\n",
      "Learning Finished!\n",
      "Accuracy: 0.9936\n"
     ]
    }
   ],
   "source": [
    "#위의 W1~W5,b4,b5값 받아서 학습해보기\n",
    "X = tf.placeholder(tf.float32, [None, 784])\n",
    "#conv2d를만들때는 img_data로 변환해서 input을 넣어줌\n",
    "X_img = tf.reshape(X, [-1,28,28,1]) # img 28x28x1 (black/white)\n",
    "Y = tf.placeholder(tf.float32, [None, 10])\n",
    "\n",
    "#parameters\n",
    "learning_rate=0.001\n",
    "training_epochs = 15\n",
    "batch_size = 100\n",
    "total_batch = int(mnist.train.num_examples / batch_size)\n",
    "\n",
    "#dropout (keep_prob) rate 0.7~0.5 on training, but should be 1 for testing\n",
    "keep_prob = tf.placeholder(tf.float32)\n",
    "\n",
    "#L1 ImgIn shape=(?,28,28,1) (Layer1)\n",
    "# 32Filters of 3x3x1\n",
    "W1 = tf.Variable(W1)\n",
    "#Conv -> (?,28,28,1), Pool -> (?,14,14,32)\n",
    "L1 = tf.nn.conv2d(X_img, W1, strides=[1,1,1,1], padding=\"SAME\")\n",
    "L1 = tf.nn.relu(L1) #back propagation이 잘되게하기위한 relu\n",
    "#max_pool filter2x2x1, stride2x2x1 -> 14x14x1\n",
    "L1 = tf.nn.max_pool(L1, ksize=[1,2,2,1],\n",
    "                   strides=[1,2,2,1], padding=\"SAME\")\n",
    "L1 = tf.nn.dropout(L1, keep_prob=keep_prob)\n",
    "\n",
    "#L2 ImgIn shape=(?,14,14,32)\n",
    "W2 = tf.Variable(W2)\n",
    "#Conv -> (?,14,14,64), Pool -> (?,7,7,64)\n",
    "L2 = tf.nn.conv2d(L1, W2, strides=[1,1,1,1], padding=\"SAME\")\n",
    "L2 = tf.nn.relu(L2)\n",
    "L2 = tf.nn.max_pool(L2, ksize=[1,2,2,1], strides=[1,2,2,1], padding=\"SAME\")\n",
    "L2 = tf.nn.dropout(L2, keep_prob=keep_prob)\n",
    "\n",
    "#L3 ImgIn shape=(?,7,7,64)\n",
    "W3 = tf.Variable(W3)\n",
    "#Conv=(?,7,7,128), Pool=(?,4,4,128),\n",
    "#Reshape=(?,4*4*128) <- Flatten them for FC input\n",
    "L3 = tf.nn.conv2d(L2, W3, strides=[1,1,1,1], padding=\"SAME\")\n",
    "L3 = tf.nn.relu(L3)\n",
    "L3 = tf.nn.max_pool(L3, ksize=[1,2,2,1], strides=[1,2,2,1], padding=\"SAME\")\n",
    "L3 = tf.nn.dropout(L3,keep_prob=keep_prob)\n",
    "\n",
    "L3 = tf.reshape(L3, [-1, 4*4*128]) #Flatten them for FC input\n",
    "\n",
    "#one more layer!!\n",
    "#FC 4*4*128 inputs -> 625 outputs\n",
    "W4 = tf.Variable(W4)\n",
    "b4 = tf.Variable(b4)\n",
    "L4 = tf.nn.relu(tf.matmul(L3,W4) + b4)\n",
    "L4 = tf.nn.dropout(L4, keep_prob=keep_prob)\n",
    "\n",
    "#L5 Final FC 625 inputs -> 10 outputs\n",
    "W5 = tf.Variable(W5)\n",
    "b5 = tf.Variable(b5)\n",
    "hypothesis = tf.matmul(L4,W5) + b5\n",
    "\n",
    "#defice cost/loss & optimizer\n",
    "cost = tf.reduce_mean(tf.nn.softmax_cross_entropy_with_logits(logits=hypothesis, labels=Y))\n",
    "optimizer = tf.train.AdamOptimizer(learning_rate=learning_rate).minimize(cost)\n",
    "\n",
    "sess= tf.Session()\n",
    "sess.run(tf.global_variables_initializer())\n",
    "\n",
    "print(\"Learning started. It takes too much time..ㅠㅠ\")\n",
    "print(\"I should use tensorflow GPU...\")\n",
    "print(\"total_batch:\",total_batch)\n",
    "for epoch in range(training_epochs):\n",
    "    avg_cost = 0\n",
    "    for i in range(total_batch):\n",
    "        batch_xs, batch_ys = mnist.train.next_batch(batch_size)\n",
    "        feed_dict = {X:batch_xs, Y:batch_ys, keep_prob:0.7}\n",
    "        c, _, =sess.run([cost, optimizer], feed_dict = feed_dict)\n",
    "        avg_cost += c / total_batch\n",
    "    print(\"Epoch:\",\"%04d\"%(epoch+1), \"cost =\",\"{:.9f}\".format(avg_cost))\n",
    "\n",
    "print(\"Learning Finished!\")\n",
    "\n",
    "#Test model and check accuracy\n",
    "correct_prediction = tf.equal(tf.argmax(hypothesis,1), tf.argmax(Y,1))\n",
    "accuracy = tf.reduce_mean(tf.cast(correct_prediction, tf.float32))\n",
    "print(\"Accuracy:\", sess.run(accuracy, feed_dict = {X:mnist.test.images, Y:mnist.test.labels, keep_prob:1}))\n"
   ]
  },
  {
   "cell_type": "code",
   "execution_count": 60,
   "metadata": {},
   "outputs": [
    {
     "name": "stdout",
     "output_type": "stream",
     "text": [
      "Label: [7]\n",
      "Miss prediction: [1]\n"
     ]
    },
    {
     "data": {
      "image/png": "[encoded data removed]",
      "text/plain": [
       "<matplotlib.figure.Figure at 0x15411f3b1d0>"
      ]
     },
     "metadata": {},
     "output_type": "display_data"
    },
    {
     "name": "stdout",
     "output_type": "stream",
     "text": [
      "Label: [9]\n",
      "Miss prediction: [4]\n"
     ]
    },
    {
     "data": {
      "image/png": "[encoded data removed]",
      "text/plain": [
       "<matplotlib.figure.Figure at 0x1541a5587f0>"
      ]
     },
     "metadata": {},
     "output_type": "display_data"
    },
    {
     "name": "stdout",
     "output_type": "stream",
     "text": [
      "Label: [1]\n",
      "Miss prediction: [7]\n"
     ]
    },
    {
     "data": {
      "image/png": "[encoded data removed]",
      "text/plain": [
       "<matplotlib.figure.Figure at 0x1541ce55278>"
      ]
     },
     "metadata": {},
     "output_type": "display_data"
    },
    {
     "name": "stdout",
     "output_type": "stream",
     "text": [
      "Label: [1]\n",
      "Miss prediction: [6]\n"
     ]
    },
    {
     "data": {
      "image/png": "[encoded data removed]",
      "text/plain": [
       "<matplotlib.figure.Figure at 0x1541b738550>"
      ]
     },
     "metadata": {},
     "output_type": "display_data"
    }
   ],
   "source": [
    "for i in range(400):\n",
    "    r = random.randint(0, mnist.test.num_examples-1)\n",
    "    label = sess.run(tf.argmax(mnist.test.labels[r:r+1],1))\n",
    "    prediction = sess.run(tf.argmax(hypothesis,1),\n",
    "                              feed_dict={X:mnist.test.images[r:r+1], keep_prob:1})\n",
    "    if (label != prediction):\n",
    "        print(\"Label:\", sess.run(tf.argmax(mnist.test.labels[r:r+1],1)))\n",
    "        print(\"Miss prediction:\", sess.run(tf.argmax(hypothesis,1),\n",
    "                              feed_dict={X:mnist.test.images[r:r+1], keep_prob:1}))\n",
    "        plt.imshow(mnist.test.images[r:r+1].reshape(28,28), cmap=\"Greys\", interpolation=\"nearest\")\n",
    "        plt.show()"
   ]
  },
  {
   "cell_type": "code",
   "execution_count": null,
   "metadata": {
    "collapsed": true
   },
   "outputs": [],
   "source": []
  }
 ],
 "metadata": {
  "kernelspec": {
   "display_name": "Python 3",
   "language": "python",
   "name": "python3"
  },
  "language_info": {
   "codemirror_mode": {
    "name": "ipython",
    "version": 3
   },
   "file_extension": ".py",
   "mimetype": "text/x-python",
   "name": "python",
   "nbconvert_exporter": "python",
   "pygments_lexer": "ipython3",
   "version": "3.6.1"
  }
 },
 "nbformat": 4,
 "nbformat_minor": 2
}
