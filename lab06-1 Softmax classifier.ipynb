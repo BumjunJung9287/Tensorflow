{
 "cells": [
  {
   "cell_type": "code",
   "execution_count": 18,
   "metadata": {},
   "outputs": [
    {
     "name": "stdout",
     "output_type": "stream",
     "text": [
      "0 4.1160064\n",
      "200 0.53875387\n",
      "400 0.4472188\n",
      "600 0.3727746\n",
      "800 0.30113554\n",
      "1000 0.23790647\n",
      "1200 0.21491407\n",
      "1400 0.19610278\n",
      "1600 0.18021077\n",
      "1800 0.16661672\n",
      "2000 0.15486494\n",
      "[2 2 2 1 1 1 0 0]\n",
      "[[2.0937028e-03 9.9789822e-01 8.1202652e-06]] [1]\n",
      "[[2.0937028e-03 9.9789822e-01 8.1202652e-06]\n",
      " [9.1657829e-01 7.6912120e-02 6.5095373e-03]\n",
      " [1.4539349e-08 3.1984726e-04 9.9968016e-01]] [1 0 2]\n"
     ]
    }
   ],
   "source": [
    "import tensorflow as tf\n",
    "\n",
    "x_data = [[1,2,1,1],[2,1,3,2],[3,1,3,4],[4,1,5,5],[1,7,5,5],\n",
    "         [1,2,5,6],[1,6,6,6],[1,7,7,7]]\n",
    "y_data = [[0,0,1],[0,0,1],[0,0,1],[0,1,0],[0,1,0],[0,1,0],[1,0,0],[1,0,0]]\n",
    "\n",
    "X = tf.placeholder(\"float\",[None,4])\n",
    "Y = tf.placeholder(\"float\",[None,3])\n",
    "nb_classes = 3\n",
    "\n",
    "W = tf.Variable(tf.random_normal([4,nb_classes]),name = \"weight\")\n",
    "b = tf.Variable(tf.random_normal([nb_classes]),name = \"bias\")\n",
    "\n",
    "#tf.nn.softmax computes softmax activations\n",
    "#softmax = exp(logits) / reduce_sum(exp(logits),dim)\n",
    "hypothesis = tf.nn.softmax(tf.matmul(X,W)+b)\n",
    "\n",
    "#Cross entropy cost/loss\n",
    "cost = tf.reduce_mean(-tf.reduce_sum(Y*tf.log(hypothesis),axis = 1))\n",
    "optimizer = tf.train.GradientDescentOptimizer(learning_rate = 0.1).minimize(cost)\n",
    "\n",
    "#launch graph\n",
    "with tf.Session() as sess:\n",
    "    sess.run(tf.global_variables_initializer()) ##글로벌 함수 초기화\n",
    "    \n",
    "    for step in range(2001):\n",
    "        sess.run(optimizer,feed_dict = {X:x_data, Y:y_data})\n",
    "        if step%200 == 0:\n",
    "            print(step,sess.run(cost,feed_dict = {X:x_data, Y:y_data}))\n",
    "    a = sess.run(hypothesis, feed_dict = {X:x_data})\n",
    "    print(sess.run(tf.arg_max(a,1))) ##max argument 찾기 (axis 1 에서)\n",
    "    b = sess.run(hypothesis, feed_dict = {X:[[1,11,7,9]]}) \n",
    "    print(b,sess.run(tf.arg_max(b,1)))\n",
    "    al =  sess.run(hypothesis, feed_dict = {X:[[1,11,7,9],[1,3,4,3],[1,1,0,1]]})\n",
    "    print(al,sess.run(tf.arg_max(al,1)))\n"
   ]
  },
  {
   "cell_type": "code",
   "execution_count": null,
   "metadata": {
    "collapsed": true
   },
   "outputs": [],
   "source": []
  }
 ],
 "metadata": {
  "kernelspec": {
   "display_name": "Python 3",
   "language": "python",
   "name": "python3"
  },
  "language_info": {
   "codemirror_mode": {
    "name": "ipython",
    "version": 3
   },
   "file_extension": ".py",
   "mimetype": "text/x-python",
   "name": "python",
   "nbconvert_exporter": "python",
   "pygments_lexer": "ipython3",
   "version": "3.6.1"
  }
 },
 "nbformat": 4,
 "nbformat_minor": 2
}
